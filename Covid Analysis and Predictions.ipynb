{
 "cells": [
  {
   "cell_type": "code",
   "execution_count": 1,
   "metadata": {},
   "outputs": [],
   "source": [
    "%config IPCompleter.greedy=True\n",
    "\n",
    "import numpy as np\n",
    "import pandas as pd\n",
    "import matplotlib.pyplot as plt"
   ]
  },
  {
   "cell_type": "markdown",
   "metadata": {},
   "source": [
    "# Final Introduction to AI course : COVID-19 Analysis and Predictions"
   ]
  },
  {
   "cell_type": "markdown",
   "metadata": {},
   "source": [
    "## Introduction: Dataset"
   ]
  },
  {
   "cell_type": "markdown",
   "metadata": {},
   "source": [
    "Authors of the dataset: \n",
    "Xu, Bo and Gutierrez, Bernardo and Mekaru, Sumiko and Sewalk, Kara and Goodwin, Lauren and Loskill, Alyssa and  Cohn, Emily and Hswen, Yulin and Hill, Sarah C. and Cobo, Maria M and Zarebski, Alexander and Li, Sabrina and Wu, Chieh-Hsi   and Hulland, Erin and Morgan, Julia and Wang, Lin and O'Brien, Katelynn and Scarpino, Samuel V. and Brownstein, John S. and Pybus, Oliver G. and Pigott, David M. and Kraemer, Moritz U. G.\n",
    "\n",
    "Article about the dataset: [Epidemiological data from the COVID-19 outbreak, real-time case information}](https://www.doi.org/10.1038/s41597-020-0448-0)\n",
    "\n",
    "Github : https://github.com/beoutbreakprepared/nCoV2019\n",
    "\n",
    "The dataset used is: /latest_data/latestdata.tar.gz (as of May 25th 2020)"
   ]
  },
  {
   "cell_type": "code",
   "execution_count": 2,
   "metadata": {
    "scrolled": true
   },
   "outputs": [
    {
     "name": "stderr",
     "output_type": "stream",
     "text": [
      "/usr/local/anaconda3/lib/python3.7/site-packages/IPython/core/interactiveshell.py:3057: DtypeWarning: Columns (1,2,9,10,12,13,14,15,16,17,19,21,22,23,24,25,26,27,31,32) have mixed types. Specify dtype option on import or set low_memory=False.\n",
      "  interactivity=interactivity, compiler=compiler, result=result)\n"
     ]
    },
    {
     "data": {
      "text/html": [
       "<div>\n",
       "<style scoped>\n",
       "    .dataframe tbody tr th:only-of-type {\n",
       "        vertical-align: middle;\n",
       "    }\n",
       "\n",
       "    .dataframe tbody tr th {\n",
       "        vertical-align: top;\n",
       "    }\n",
       "\n",
       "    .dataframe thead th {\n",
       "        text-align: right;\n",
       "    }\n",
       "</style>\n",
       "<table border=\"1\" class=\"dataframe\">\n",
       "  <thead>\n",
       "    <tr style=\"text-align: right;\">\n",
       "      <th></th>\n",
       "      <th>ID</th>\n",
       "      <th>age</th>\n",
       "      <th>sex</th>\n",
       "      <th>city</th>\n",
       "      <th>province</th>\n",
       "      <th>country</th>\n",
       "      <th>latitude</th>\n",
       "      <th>longitude</th>\n",
       "      <th>geo_resolution</th>\n",
       "      <th>date_onset_symptoms</th>\n",
       "      <th>...</th>\n",
       "      <th>date_death_or_discharge</th>\n",
       "      <th>notes_for_discussion</th>\n",
       "      <th>location</th>\n",
       "      <th>admin3</th>\n",
       "      <th>admin2</th>\n",
       "      <th>admin1</th>\n",
       "      <th>country_new</th>\n",
       "      <th>admin_id</th>\n",
       "      <th>data_moderator_initials</th>\n",
       "      <th>travel_history_binary</th>\n",
       "    </tr>\n",
       "  </thead>\n",
       "  <tbody>\n",
       "    <tr>\n",
       "      <th>0</th>\n",
       "      <td>000-1-1</td>\n",
       "      <td>NaN</td>\n",
       "      <td>male</td>\n",
       "      <td>Shek Lei</td>\n",
       "      <td>Hong Kong</td>\n",
       "      <td>China</td>\n",
       "      <td>22.365019</td>\n",
       "      <td>114.133808</td>\n",
       "      <td>point</td>\n",
       "      <td>NaN</td>\n",
       "      <td>...</td>\n",
       "      <td>NaN</td>\n",
       "      <td>NaN</td>\n",
       "      <td>Shek Lei</td>\n",
       "      <td>NaN</td>\n",
       "      <td>NaN</td>\n",
       "      <td>Hong Kong</td>\n",
       "      <td>China</td>\n",
       "      <td>8051.0</td>\n",
       "      <td>NaN</td>\n",
       "      <td>NaN</td>\n",
       "    </tr>\n",
       "    <tr>\n",
       "      <th>1</th>\n",
       "      <td>000-1-10</td>\n",
       "      <td>78</td>\n",
       "      <td>male</td>\n",
       "      <td>Vo Euganeo</td>\n",
       "      <td>Veneto</td>\n",
       "      <td>Italy</td>\n",
       "      <td>45.297748</td>\n",
       "      <td>11.658382</td>\n",
       "      <td>point</td>\n",
       "      <td>NaN</td>\n",
       "      <td>...</td>\n",
       "      <td>22.02.2020</td>\n",
       "      <td>NaN</td>\n",
       "      <td>Vo' Euganeo</td>\n",
       "      <td>NaN</td>\n",
       "      <td>NaN</td>\n",
       "      <td>Veneto</td>\n",
       "      <td>Italy</td>\n",
       "      <td>8978.0</td>\n",
       "      <td>NaN</td>\n",
       "      <td>NaN</td>\n",
       "    </tr>\n",
       "    <tr>\n",
       "      <th>2</th>\n",
       "      <td>000-1-100</td>\n",
       "      <td>61</td>\n",
       "      <td>female</td>\n",
       "      <td>NaN</td>\n",
       "      <td>NaN</td>\n",
       "      <td>Singapore</td>\n",
       "      <td>1.353460</td>\n",
       "      <td>103.815100</td>\n",
       "      <td>admin0</td>\n",
       "      <td>NaN</td>\n",
       "      <td>...</td>\n",
       "      <td>17.02.2020</td>\n",
       "      <td>NaN</td>\n",
       "      <td>NaN</td>\n",
       "      <td>NaN</td>\n",
       "      <td>NaN</td>\n",
       "      <td>NaN</td>\n",
       "      <td>Singapore</td>\n",
       "      <td>201.0</td>\n",
       "      <td>NaN</td>\n",
       "      <td>NaN</td>\n",
       "    </tr>\n",
       "    <tr>\n",
       "      <th>3</th>\n",
       "      <td>000-1-1000</td>\n",
       "      <td>NaN</td>\n",
       "      <td>NaN</td>\n",
       "      <td>Zhengzhou City</td>\n",
       "      <td>Henan</td>\n",
       "      <td>China</td>\n",
       "      <td>34.629310</td>\n",
       "      <td>113.468000</td>\n",
       "      <td>admin2</td>\n",
       "      <td>NaN</td>\n",
       "      <td>...</td>\n",
       "      <td>NaN</td>\n",
       "      <td>NaN</td>\n",
       "      <td>NaN</td>\n",
       "      <td>NaN</td>\n",
       "      <td>Zhengzhou City</td>\n",
       "      <td>Henan</td>\n",
       "      <td>China</td>\n",
       "      <td>10115.0</td>\n",
       "      <td>NaN</td>\n",
       "      <td>NaN</td>\n",
       "    </tr>\n",
       "    <tr>\n",
       "      <th>4</th>\n",
       "      <td>000-1-10000</td>\n",
       "      <td>NaN</td>\n",
       "      <td>NaN</td>\n",
       "      <td>Pingxiang City</td>\n",
       "      <td>Jiangxi</td>\n",
       "      <td>China</td>\n",
       "      <td>27.513560</td>\n",
       "      <td>113.902900</td>\n",
       "      <td>admin2</td>\n",
       "      <td>NaN</td>\n",
       "      <td>...</td>\n",
       "      <td>NaN</td>\n",
       "      <td>NaN</td>\n",
       "      <td>NaN</td>\n",
       "      <td>NaN</td>\n",
       "      <td>Pingxiang City</td>\n",
       "      <td>Jiangxi</td>\n",
       "      <td>China</td>\n",
       "      <td>7079.0</td>\n",
       "      <td>NaN</td>\n",
       "      <td>NaN</td>\n",
       "    </tr>\n",
       "  </tbody>\n",
       "</table>\n",
       "<p>5 rows × 33 columns</p>\n",
       "</div>"
      ],
      "text/plain": [
       "            ID  age     sex            city   province    country   latitude  \\\n",
       "0      000-1-1  NaN    male        Shek Lei  Hong Kong      China  22.365019   \n",
       "1     000-1-10   78    male      Vo Euganeo     Veneto      Italy  45.297748   \n",
       "2    000-1-100   61  female             NaN        NaN  Singapore   1.353460   \n",
       "3   000-1-1000  NaN     NaN  Zhengzhou City      Henan      China  34.629310   \n",
       "4  000-1-10000  NaN     NaN  Pingxiang City    Jiangxi      China  27.513560   \n",
       "\n",
       "    longitude geo_resolution date_onset_symptoms  ... date_death_or_discharge  \\\n",
       "0  114.133808          point                 NaN  ...                     NaN   \n",
       "1   11.658382          point                 NaN  ...              22.02.2020   \n",
       "2  103.815100         admin0                 NaN  ...              17.02.2020   \n",
       "3  113.468000         admin2                 NaN  ...                     NaN   \n",
       "4  113.902900         admin2                 NaN  ...                     NaN   \n",
       "\n",
       "  notes_for_discussion     location admin3          admin2     admin1  \\\n",
       "0                  NaN     Shek Lei    NaN             NaN  Hong Kong   \n",
       "1                  NaN  Vo' Euganeo    NaN             NaN     Veneto   \n",
       "2                  NaN          NaN    NaN             NaN        NaN   \n",
       "3                  NaN          NaN    NaN  Zhengzhou City      Henan   \n",
       "4                  NaN          NaN    NaN  Pingxiang City    Jiangxi   \n",
       "\n",
       "  country_new admin_id  data_moderator_initials travel_history_binary  \n",
       "0       China   8051.0                      NaN                   NaN  \n",
       "1       Italy   8978.0                      NaN                   NaN  \n",
       "2   Singapore    201.0                      NaN                   NaN  \n",
       "3       China  10115.0                      NaN                   NaN  \n",
       "4       China   7079.0                      NaN                   NaN  \n",
       "\n",
       "[5 rows x 33 columns]"
      ]
     },
     "execution_count": 2,
     "metadata": {},
     "output_type": "execute_result"
    }
   ],
   "source": [
    "#path = ('https://raw.githubusercontent.com/beoutbreakprepared/nCoV2019/master/outside_hubei_20200301.csv')\n",
    "path = \"latestdata.csv\"\n",
    "\n",
    "df = pd.read_csv(path)\n",
    "df.head()"
   ]
  },
  {
   "cell_type": "code",
   "execution_count": 3,
   "metadata": {},
   "outputs": [
    {
     "data": {
      "text/plain": [
       "Index(['ID', 'age', 'sex', 'city', 'province', 'country', 'latitude',\n",
       "       'longitude', 'geo_resolution', 'date_onset_symptoms',\n",
       "       'date_admission_hospital', 'date_confirmation', 'symptoms',\n",
       "       'lives_in_Wuhan', 'travel_history_dates', 'travel_history_location',\n",
       "       'reported_market_exposure', 'additional_information',\n",
       "       'chronic_disease_binary', 'chronic_disease', 'source',\n",
       "       'sequence_available', 'outcome', 'date_death_or_discharge',\n",
       "       'notes_for_discussion', 'location', 'admin3', 'admin2', 'admin1',\n",
       "       'country_new', 'admin_id', 'data_moderator_initials',\n",
       "       'travel_history_binary'],\n",
       "      dtype='object')"
      ]
     },
     "execution_count": 3,
     "metadata": {},
     "output_type": "execute_result"
    }
   ],
   "source": [
    "df.columns"
   ]
  },
  {
   "cell_type": "code",
   "execution_count": 4,
   "metadata": {
    "scrolled": true
   },
   "outputs": [
    {
     "data": {
      "text/html": [
       "<div>\n",
       "<style scoped>\n",
       "    .dataframe tbody tr th:only-of-type {\n",
       "        vertical-align: middle;\n",
       "    }\n",
       "\n",
       "    .dataframe tbody tr th {\n",
       "        vertical-align: top;\n",
       "    }\n",
       "\n",
       "    .dataframe thead th {\n",
       "        text-align: right;\n",
       "    }\n",
       "</style>\n",
       "<table border=\"1\" class=\"dataframe\">\n",
       "  <thead>\n",
       "    <tr style=\"text-align: right;\">\n",
       "      <th></th>\n",
       "      <th>ID</th>\n",
       "      <th>age</th>\n",
       "      <th>sex</th>\n",
       "      <th>city</th>\n",
       "      <th>province</th>\n",
       "      <th>country</th>\n",
       "      <th>latitude</th>\n",
       "      <th>longitude</th>\n",
       "      <th>geo_resolution</th>\n",
       "      <th>date_onset_symptoms</th>\n",
       "      <th>...</th>\n",
       "      <th>date_death_or_discharge</th>\n",
       "      <th>notes_for_discussion</th>\n",
       "      <th>location</th>\n",
       "      <th>admin3</th>\n",
       "      <th>admin2</th>\n",
       "      <th>admin1</th>\n",
       "      <th>country_new</th>\n",
       "      <th>admin_id</th>\n",
       "      <th>data_moderator_initials</th>\n",
       "      <th>travel_history_binary</th>\n",
       "    </tr>\n",
       "  </thead>\n",
       "  <tbody>\n",
       "    <tr>\n",
       "      <th>count</th>\n",
       "      <td>920737</td>\n",
       "      <td>243077</td>\n",
       "      <td>243783</td>\n",
       "      <td>716290</td>\n",
       "      <td>889612</td>\n",
       "      <td>920634</td>\n",
       "      <td>920688.000000</td>\n",
       "      <td>920688.000000</td>\n",
       "      <td>920688</td>\n",
       "      <td>164774</td>\n",
       "      <td>...</td>\n",
       "      <td>522</td>\n",
       "      <td>642</td>\n",
       "      <td>7614</td>\n",
       "      <td>9207</td>\n",
       "      <td>426434</td>\n",
       "      <td>589542</td>\n",
       "      <td>895125</td>\n",
       "      <td>920688.000000</td>\n",
       "      <td>402183</td>\n",
       "      <td>855158</td>\n",
       "    </tr>\n",
       "    <tr>\n",
       "      <th>unique</th>\n",
       "      <td>920737</td>\n",
       "      <td>304</td>\n",
       "      <td>2</td>\n",
       "      <td>4614</td>\n",
       "      <td>950</td>\n",
       "      <td>141</td>\n",
       "      <td>NaN</td>\n",
       "      <td>NaN</td>\n",
       "      <td>7</td>\n",
       "      <td>137</td>\n",
       "      <td>...</td>\n",
       "      <td>78</td>\n",
       "      <td>204</td>\n",
       "      <td>347</td>\n",
       "      <td>410</td>\n",
       "      <td>1961</td>\n",
       "      <td>469</td>\n",
       "      <td>137</td>\n",
       "      <td>NaN</td>\n",
       "      <td>11</td>\n",
       "      <td>2</td>\n",
       "    </tr>\n",
       "    <tr>\n",
       "      <th>top</th>\n",
       "      <td>007-231767</td>\n",
       "      <td>35-59</td>\n",
       "      <td>female</td>\n",
       "      <td>Moscow</td>\n",
       "      <td>Central</td>\n",
       "      <td>Russia</td>\n",
       "      <td>NaN</td>\n",
       "      <td>NaN</td>\n",
       "      <td>admin2</td>\n",
       "      <td>20.03.2020</td>\n",
       "      <td>...</td>\n",
       "      <td>18.02.2020</td>\n",
       "      <td>Could be some cases from 23rd</td>\n",
       "      <td>Chicago</td>\n",
       "      <td>Birmingham</td>\n",
       "      <td>Moscow</td>\n",
       "      <td>Central</td>\n",
       "      <td>Russia</td>\n",
       "      <td>NaN</td>\n",
       "      <td>TR</td>\n",
       "      <td>False</td>\n",
       "    </tr>\n",
       "    <tr>\n",
       "      <th>freq</th>\n",
       "      <td>1</td>\n",
       "      <td>66683</td>\n",
       "      <td>131809</td>\n",
       "      <td>104060</td>\n",
       "      <td>140612</td>\n",
       "      <td>198301</td>\n",
       "      <td>NaN</td>\n",
       "      <td>NaN</td>\n",
       "      <td>434954</td>\n",
       "      <td>5302</td>\n",
       "      <td>...</td>\n",
       "      <td>22</td>\n",
       "      <td>91</td>\n",
       "      <td>985</td>\n",
       "      <td>309</td>\n",
       "      <td>104058</td>\n",
       "      <td>136936</td>\n",
       "      <td>198301</td>\n",
       "      <td>NaN</td>\n",
       "      <td>386327</td>\n",
       "      <td>828363</td>\n",
       "    </tr>\n",
       "    <tr>\n",
       "      <th>mean</th>\n",
       "      <td>NaN</td>\n",
       "      <td>NaN</td>\n",
       "      <td>NaN</td>\n",
       "      <td>NaN</td>\n",
       "      <td>NaN</td>\n",
       "      <td>NaN</td>\n",
       "      <td>44.270574</td>\n",
       "      <td>9.667676</td>\n",
       "      <td>NaN</td>\n",
       "      <td>NaN</td>\n",
       "      <td>...</td>\n",
       "      <td>NaN</td>\n",
       "      <td>NaN</td>\n",
       "      <td>NaN</td>\n",
       "      <td>NaN</td>\n",
       "      <td>NaN</td>\n",
       "      <td>NaN</td>\n",
       "      <td>NaN</td>\n",
       "      <td>6571.943791</td>\n",
       "      <td>NaN</td>\n",
       "      <td>NaN</td>\n",
       "    </tr>\n",
       "    <tr>\n",
       "      <th>std</th>\n",
       "      <td>NaN</td>\n",
       "      <td>NaN</td>\n",
       "      <td>NaN</td>\n",
       "      <td>NaN</td>\n",
       "      <td>NaN</td>\n",
       "      <td>NaN</td>\n",
       "      <td>15.467287</td>\n",
       "      <td>49.728425</td>\n",
       "      <td>NaN</td>\n",
       "      <td>NaN</td>\n",
       "      <td>...</td>\n",
       "      <td>NaN</td>\n",
       "      <td>NaN</td>\n",
       "      <td>NaN</td>\n",
       "      <td>NaN</td>\n",
       "      <td>NaN</td>\n",
       "      <td>NaN</td>\n",
       "      <td>NaN</td>\n",
       "      <td>4131.611894</td>\n",
       "      <td>NaN</td>\n",
       "      <td>NaN</td>\n",
       "    </tr>\n",
       "    <tr>\n",
       "      <th>min</th>\n",
       "      <td>NaN</td>\n",
       "      <td>NaN</td>\n",
       "      <td>NaN</td>\n",
       "      <td>NaN</td>\n",
       "      <td>NaN</td>\n",
       "      <td>NaN</td>\n",
       "      <td>-54.000000</td>\n",
       "      <td>-159.727596</td>\n",
       "      <td>NaN</td>\n",
       "      <td>NaN</td>\n",
       "      <td>...</td>\n",
       "      <td>NaN</td>\n",
       "      <td>NaN</td>\n",
       "      <td>NaN</td>\n",
       "      <td>NaN</td>\n",
       "      <td>NaN</td>\n",
       "      <td>NaN</td>\n",
       "      <td>NaN</td>\n",
       "      <td>1.000000</td>\n",
       "      <td>NaN</td>\n",
       "      <td>NaN</td>\n",
       "    </tr>\n",
       "    <tr>\n",
       "      <th>25%</th>\n",
       "      <td>NaN</td>\n",
       "      <td>NaN</td>\n",
       "      <td>NaN</td>\n",
       "      <td>NaN</td>\n",
       "      <td>NaN</td>\n",
       "      <td>NaN</td>\n",
       "      <td>41.402211</td>\n",
       "      <td>4.590656</td>\n",
       "      <td>NaN</td>\n",
       "      <td>NaN</td>\n",
       "      <td>...</td>\n",
       "      <td>NaN</td>\n",
       "      <td>NaN</td>\n",
       "      <td>NaN</td>\n",
       "      <td>NaN</td>\n",
       "      <td>NaN</td>\n",
       "      <td>NaN</td>\n",
       "      <td>NaN</td>\n",
       "      <td>1903.500000</td>\n",
       "      <td>NaN</td>\n",
       "      <td>NaN</td>\n",
       "    </tr>\n",
       "    <tr>\n",
       "      <th>50%</th>\n",
       "      <td>NaN</td>\n",
       "      <td>NaN</td>\n",
       "      <td>NaN</td>\n",
       "      <td>NaN</td>\n",
       "      <td>NaN</td>\n",
       "      <td>NaN</td>\n",
       "      <td>48.076205</td>\n",
       "      <td>10.552910</td>\n",
       "      <td>NaN</td>\n",
       "      <td>NaN</td>\n",
       "      <td>...</td>\n",
       "      <td>NaN</td>\n",
       "      <td>NaN</td>\n",
       "      <td>NaN</td>\n",
       "      <td>NaN</td>\n",
       "      <td>NaN</td>\n",
       "      <td>NaN</td>\n",
       "      <td>NaN</td>\n",
       "      <td>6363.000000</td>\n",
       "      <td>NaN</td>\n",
       "      <td>NaN</td>\n",
       "    </tr>\n",
       "    <tr>\n",
       "      <th>75%</th>\n",
       "      <td>NaN</td>\n",
       "      <td>NaN</td>\n",
       "      <td>NaN</td>\n",
       "      <td>NaN</td>\n",
       "      <td>NaN</td>\n",
       "      <td>NaN</td>\n",
       "      <td>52.580000</td>\n",
       "      <td>37.617300</td>\n",
       "      <td>NaN</td>\n",
       "      <td>NaN</td>\n",
       "      <td>...</td>\n",
       "      <td>NaN</td>\n",
       "      <td>NaN</td>\n",
       "      <td>NaN</td>\n",
       "      <td>NaN</td>\n",
       "      <td>NaN</td>\n",
       "      <td>NaN</td>\n",
       "      <td>NaN</td>\n",
       "      <td>10857.000000</td>\n",
       "      <td>NaN</td>\n",
       "      <td>NaN</td>\n",
       "    </tr>\n",
       "    <tr>\n",
       "      <th>max</th>\n",
       "      <td>NaN</td>\n",
       "      <td>NaN</td>\n",
       "      <td>NaN</td>\n",
       "      <td>NaN</td>\n",
       "      <td>NaN</td>\n",
       "      <td>NaN</td>\n",
       "      <td>70.071800</td>\n",
       "      <td>174.740000</td>\n",
       "      <td>NaN</td>\n",
       "      <td>NaN</td>\n",
       "      <td>...</td>\n",
       "      <td>NaN</td>\n",
       "      <td>NaN</td>\n",
       "      <td>NaN</td>\n",
       "      <td>NaN</td>\n",
       "      <td>NaN</td>\n",
       "      <td>NaN</td>\n",
       "      <td>NaN</td>\n",
       "      <td>11910.000000</td>\n",
       "      <td>NaN</td>\n",
       "      <td>NaN</td>\n",
       "    </tr>\n",
       "  </tbody>\n",
       "</table>\n",
       "<p>11 rows × 33 columns</p>\n",
       "</div>"
      ],
      "text/plain": [
       "                ID     age     sex    city province country       latitude  \\\n",
       "count       920737  243077  243783  716290   889612  920634  920688.000000   \n",
       "unique      920737     304       2    4614      950     141            NaN   \n",
       "top     007-231767   35-59  female  Moscow  Central  Russia            NaN   \n",
       "freq             1   66683  131809  104060   140612  198301            NaN   \n",
       "mean           NaN     NaN     NaN     NaN      NaN     NaN      44.270574   \n",
       "std            NaN     NaN     NaN     NaN      NaN     NaN      15.467287   \n",
       "min            NaN     NaN     NaN     NaN      NaN     NaN     -54.000000   \n",
       "25%            NaN     NaN     NaN     NaN      NaN     NaN      41.402211   \n",
       "50%            NaN     NaN     NaN     NaN      NaN     NaN      48.076205   \n",
       "75%            NaN     NaN     NaN     NaN      NaN     NaN      52.580000   \n",
       "max            NaN     NaN     NaN     NaN      NaN     NaN      70.071800   \n",
       "\n",
       "            longitude geo_resolution date_onset_symptoms  ...  \\\n",
       "count   920688.000000         920688              164774  ...   \n",
       "unique            NaN              7                 137  ...   \n",
       "top               NaN         admin2          20.03.2020  ...   \n",
       "freq              NaN         434954                5302  ...   \n",
       "mean         9.667676            NaN                 NaN  ...   \n",
       "std         49.728425            NaN                 NaN  ...   \n",
       "min       -159.727596            NaN                 NaN  ...   \n",
       "25%          4.590656            NaN                 NaN  ...   \n",
       "50%         10.552910            NaN                 NaN  ...   \n",
       "75%         37.617300            NaN                 NaN  ...   \n",
       "max        174.740000            NaN                 NaN  ...   \n",
       "\n",
       "       date_death_or_discharge           notes_for_discussion location  \\\n",
       "count                      522                            642     7614   \n",
       "unique                      78                            204      347   \n",
       "top                 18.02.2020  Could be some cases from 23rd  Chicago   \n",
       "freq                        22                             91      985   \n",
       "mean                       NaN                            NaN      NaN   \n",
       "std                        NaN                            NaN      NaN   \n",
       "min                        NaN                            NaN      NaN   \n",
       "25%                        NaN                            NaN      NaN   \n",
       "50%                        NaN                            NaN      NaN   \n",
       "75%                        NaN                            NaN      NaN   \n",
       "max                        NaN                            NaN      NaN   \n",
       "\n",
       "            admin3  admin2   admin1 country_new       admin_id  \\\n",
       "count         9207  426434   589542      895125  920688.000000   \n",
       "unique         410    1961      469         137            NaN   \n",
       "top     Birmingham  Moscow  Central      Russia            NaN   \n",
       "freq           309  104058   136936      198301            NaN   \n",
       "mean           NaN     NaN      NaN         NaN    6571.943791   \n",
       "std            NaN     NaN      NaN         NaN    4131.611894   \n",
       "min            NaN     NaN      NaN         NaN       1.000000   \n",
       "25%            NaN     NaN      NaN         NaN    1903.500000   \n",
       "50%            NaN     NaN      NaN         NaN    6363.000000   \n",
       "75%            NaN     NaN      NaN         NaN   10857.000000   \n",
       "max            NaN     NaN      NaN         NaN   11910.000000   \n",
       "\n",
       "       data_moderator_initials travel_history_binary  \n",
       "count                   402183                855158  \n",
       "unique                      11                     2  \n",
       "top                         TR                 False  \n",
       "freq                    386327                828363  \n",
       "mean                       NaN                   NaN  \n",
       "std                        NaN                   NaN  \n",
       "min                        NaN                   NaN  \n",
       "25%                        NaN                   NaN  \n",
       "50%                        NaN                   NaN  \n",
       "75%                        NaN                   NaN  \n",
       "max                        NaN                   NaN  \n",
       "\n",
       "[11 rows x 33 columns]"
      ]
     },
     "execution_count": 4,
     "metadata": {},
     "output_type": "execute_result"
    }
   ],
   "source": [
    "df.describe(include=\"all\")"
   ]
  },
  {
   "cell_type": "markdown",
   "metadata": {},
   "source": [
    "# 0. Cleaning Dataset\n"
   ]
  },
  {
   "cell_type": "markdown",
   "metadata": {},
   "source": [
    "## Age Range to average age conversion"
   ]
  },
  {
   "cell_type": "markdown",
   "metadata": {},
   "source": [
    "Some of the ages are actually an age range. The goal here if to convert some age ranges to an average age.\n",
    "\n",
    "_ex: 10-20 => 15_"
   ]
  },
  {
   "cell_type": "code",
   "execution_count": 5,
   "metadata": {},
   "outputs": [],
   "source": [
    "df = df[df[\"age\"] != \"7 months\"]\n",
    "\n",
    "tmp = []\n",
    "\n",
    "for index,value in enumerate(df[\"age\"]): \n",
    "    try:\n",
    "        if (type(value) == str):\n",
    "            # some age values may be a range like : \"12-20\"\n",
    "            age_array = value.split(\"-\")\n",
    "            if len(age_array) == 2:\n",
    "                tmp.append((float(age_array[0]) + float(age_array[1])) // 2)\n",
    "            else: \n",
    "                tmp.append(float(value))\n",
    "        else:\n",
    "            tmp.append(float(value))\n",
    "    except Exception:\n",
    "        tmp.append(np.NaN)\n",
    "        continue\n",
    "\n",
    "ages_transformed = pd.Series(tmp)"
   ]
  },
  {
   "cell_type": "code",
   "execution_count": 6,
   "metadata": {},
   "outputs": [],
   "source": [
    "df[\"age\"] = ages_transformed"
   ]
  },
  {
   "cell_type": "markdown",
   "metadata": {},
   "source": [
    "## Outcome standarzing"
   ]
  },
  {
   "cell_type": "markdown",
   "metadata": {},
   "source": [
    "The outcome types are of types :\n",
    "- 'death'\n",
    "- 'discharge'\n",
    "- 'discharged'\n",
    "- 'Discharged'\n",
    "- 'recovered',\n",
    "- 'dead'\n",
    "- 'died'\n",
    "- 'Died'\n",
    "\n",
    "If the person died the value will be _1_ and will be _0_ if recovered/dismissed.\n",
    "\n"
   ]
  },
  {
   "cell_type": "code",
   "execution_count": 7,
   "metadata": {},
   "outputs": [],
   "source": [
    "tmp = []\n",
    "\n",
    "for value in df[\"outcome\"]:\n",
    "    if type(value) == str:\n",
    "        lowered_value = value.lower()\n",
    "        if lowered_value in [\"dead\", \"died\",\"death\"]:\n",
    "            tmp.append(1)\n",
    "        else:\n",
    "            tmp.append(0)\n",
    "    else:\n",
    "        tmp.append(0)\n",
    "    \n",
    "outcome_standardized = pd.Series(tmp)\n"
   ]
  },
  {
   "cell_type": "code",
   "execution_count": 8,
   "metadata": {},
   "outputs": [],
   "source": [
    "df[\"outcome\"] = outcome_standardized"
   ]
  },
  {
   "cell_type": "markdown",
   "metadata": {},
   "source": [
    "## Droping null and NaN values"
   ]
  },
  {
   "cell_type": "code",
   "execution_count": 9,
   "metadata": {},
   "outputs": [],
   "source": [
    "df = df.dropna(subset=[\"age\", \"sex\",\"city\", \"outcome\", \"country\", \"province\"])"
   ]
  },
  {
   "cell_type": "code",
   "execution_count": 10,
   "metadata": {},
   "outputs": [
    {
     "data": {
      "text/plain": [
       "(166196, 33)"
      ]
     },
     "execution_count": 10,
     "metadata": {},
     "output_type": "execute_result"
    }
   ],
   "source": [
    "df.shape"
   ]
  },
  {
   "cell_type": "markdown",
   "metadata": {},
   "source": [
    "## Country, City, Province Standardizing\n",
    "\n",
    "Countries are string values, for modeling and analysis  we will associate the variables to labels  "
   ]
  },
  {
   "cell_type": "code",
   "execution_count": 11,
   "metadata": {},
   "outputs": [],
   "source": [
    "from sklearn import preprocessing\n",
    "\n",
    "le = preprocessing.LabelEncoder()\n",
    "le.fit(df[\"country\"])\n",
    "\n",
    "df[\"country_code\"] = le.transform(df[\"country\"])"
   ]
  },
  {
   "cell_type": "code",
   "execution_count": 12,
   "metadata": {},
   "outputs": [],
   "source": [
    "from sklearn import preprocessing\n",
    "\n",
    "le = preprocessing.LabelEncoder()\n",
    "le.fit(df[\"province\"])\n",
    "\n",
    "df[\"province_code\"] = le.transform(df[\"province\"])"
   ]
  },
  {
   "cell_type": "code",
   "execution_count": 13,
   "metadata": {},
   "outputs": [],
   "source": [
    "from sklearn import preprocessing\n",
    "\n",
    "le = preprocessing.LabelEncoder()\n",
    "le.fit(df[\"city\"])\n",
    "\n",
    "df[\"city_code\"] = le.transform(df[\"city\"])"
   ]
  },
  {
   "cell_type": "markdown",
   "metadata": {},
   "source": [
    "## Standardizing Sex\n",
    "\n",
    "Male will be considered 1 and female will be considered 0."
   ]
  },
  {
   "cell_type": "code",
   "execution_count": 14,
   "metadata": {},
   "outputs": [
    {
     "data": {
      "text/plain": [
       "array(['male', 'female'], dtype=object)"
      ]
     },
     "execution_count": 14,
     "metadata": {},
     "output_type": "execute_result"
    }
   ],
   "source": [
    "df[\"sex\"].unique()"
   ]
  },
  {
   "cell_type": "code",
   "execution_count": 15,
   "metadata": {},
   "outputs": [
    {
     "data": {
      "text/plain": [
       "0"
      ]
     },
     "execution_count": 15,
     "metadata": {},
     "output_type": "execute_result"
    }
   ],
   "source": [
    "df[\"sex\"].isna().sum()"
   ]
  },
  {
   "cell_type": "code",
   "execution_count": 16,
   "metadata": {},
   "outputs": [],
   "source": [
    "from sklearn import preprocessing\n",
    "\n",
    "le = preprocessing.LabelEncoder()\n",
    "le.fit(df[\"sex\"])\n",
    "\n",
    "df[\"sex_code\"] = le.transform(df[\"sex\"])"
   ]
  },
  {
   "cell_type": "markdown",
   "metadata": {},
   "source": [
    "## Cleaning Age\n",
    "\n",
    "Ages need to be between 1 and 130 years old and be labelled a category"
   ]
  },
  {
   "cell_type": "code",
   "execution_count": 17,
   "metadata": {},
   "outputs": [],
   "source": [
    "df = df[(df[\"age\"] <= 130) & (df[\"age\"] > 0)]"
   ]
  },
  {
   "cell_type": "code",
   "execution_count": 18,
   "metadata": {},
   "outputs": [],
   "source": [
    "age_groups = pd.cut(df[\"age\"],bins=[0,2,17,65,130],labels=['Toddler/Baby','Child','Adult','Elderly'])\n",
    "df[\"age_group\"] = age_groups\n"
   ]
  },
  {
   "cell_type": "code",
   "execution_count": 19,
   "metadata": {},
   "outputs": [],
   "source": [
    "from sklearn import preprocessing\n",
    "\n",
    "le = preprocessing.LabelEncoder()\n",
    "le.fit(df[\"age_group\"])\n",
    "\n",
    "df[\"age_group_code\"] = le.transform(df[\"age_group\"])"
   ]
  },
  {
   "cell_type": "markdown",
   "metadata": {},
   "source": [
    "# 1. Analysis of the Dataset"
   ]
  },
  {
   "cell_type": "markdown",
   "metadata": {},
   "source": [
    "Number of people in \"cleaned\" dataset "
   ]
  },
  {
   "cell_type": "code",
   "execution_count": 20,
   "metadata": {},
   "outputs": [
    {
     "data": {
      "text/plain": [
       "166184"
      ]
     },
     "execution_count": 20,
     "metadata": {},
     "output_type": "execute_result"
    }
   ],
   "source": [
    "df.shape[0]"
   ]
  },
  {
   "cell_type": "markdown",
   "metadata": {},
   "source": [
    "Total number of deaths in dataset"
   ]
  },
  {
   "cell_type": "code",
   "execution_count": 21,
   "metadata": {},
   "outputs": [
    {
     "data": {
      "text/plain": [
       "183.0"
      ]
     },
     "execution_count": 21,
     "metadata": {},
     "output_type": "execute_result"
    }
   ],
   "source": [
    "df[\"outcome\"].sum()"
   ]
  },
  {
   "cell_type": "markdown",
   "metadata": {},
   "source": [
    "Number of deaths per age group and sex"
   ]
  },
  {
   "cell_type": "code",
   "execution_count": 22,
   "metadata": {},
   "outputs": [
    {
     "data": {
      "text/html": [
       "<div>\n",
       "<style scoped>\n",
       "    .dataframe tbody tr th:only-of-type {\n",
       "        vertical-align: middle;\n",
       "    }\n",
       "\n",
       "    .dataframe tbody tr th {\n",
       "        vertical-align: top;\n",
       "    }\n",
       "\n",
       "    .dataframe thead th {\n",
       "        text-align: right;\n",
       "    }\n",
       "</style>\n",
       "<table border=\"1\" class=\"dataframe\">\n",
       "  <thead>\n",
       "    <tr style=\"text-align: right;\">\n",
       "      <th>age_group</th>\n",
       "      <th>Toddler/Baby</th>\n",
       "      <th>Child</th>\n",
       "      <th>Adult</th>\n",
       "      <th>Elderly</th>\n",
       "    </tr>\n",
       "    <tr>\n",
       "      <th>sex</th>\n",
       "      <th></th>\n",
       "      <th></th>\n",
       "      <th></th>\n",
       "      <th></th>\n",
       "    </tr>\n",
       "  </thead>\n",
       "  <tbody>\n",
       "    <tr>\n",
       "      <th>female</th>\n",
       "      <td>0.0</td>\n",
       "      <td>0.0</td>\n",
       "      <td>10.0</td>\n",
       "      <td>47.0</td>\n",
       "    </tr>\n",
       "    <tr>\n",
       "      <th>male</th>\n",
       "      <td>0.0</td>\n",
       "      <td>0.0</td>\n",
       "      <td>55.0</td>\n",
       "      <td>71.0</td>\n",
       "    </tr>\n",
       "  </tbody>\n",
       "</table>\n",
       "</div>"
      ],
      "text/plain": [
       "age_group  Toddler/Baby  Child  Adult  Elderly\n",
       "sex                                           \n",
       "female              0.0    0.0   10.0     47.0\n",
       "male                0.0    0.0   55.0     71.0"
      ]
     },
     "execution_count": 22,
     "metadata": {},
     "output_type": "execute_result"
    }
   ],
   "source": [
    "df.pivot_table(\"outcome\", index=\"sex\", columns=\"age_group\", aggfunc=\"sum\")"
   ]
  },
  {
   "cell_type": "markdown",
   "metadata": {},
   "source": [
    "Correlation matrix"
   ]
  },
  {
   "cell_type": "markdown",
   "metadata": {},
   "source": [
    "## A. Variable correlation"
   ]
  },
  {
   "cell_type": "code",
   "execution_count": 23,
   "metadata": {},
   "outputs": [
    {
     "data": {
      "image/png": "[encoded data removed]",
      "text/plain": [
       "<Figure size 432x288 with 2 Axes>"
      ]
     },
     "metadata": {
      "needs_background": "light"
     },
     "output_type": "display_data"
    }
   ],
   "source": [
    "import seaborn as sn\n",
    "\n",
    "corrMatrix = df.corr()\n",
    "sn.heatmap(corrMatrix, annot=True)\n",
    "plt.show()"
   ]
  },
  {
   "cell_type": "markdown",
   "metadata": {},
   "source": [
    "The most correlated variables to the outcome is the chronic_disease feature.\n",
    "\n",
    "This correlation matrix doesn't show any other notable correlation between the outcome and another feature."
   ]
  },
  {
   "cell_type": "markdown",
   "metadata": {},
   "source": [
    "## B. Plotting Cleaned Dataset using PCA"
   ]
  },
  {
   "cell_type": "code",
   "execution_count": 24,
   "metadata": {},
   "outputs": [
    {
     "data": {
      "text/html": [
       "<div>\n",
       "<style scoped>\n",
       "    .dataframe tbody tr th:only-of-type {\n",
       "        vertical-align: middle;\n",
       "    }\n",
       "\n",
       "    .dataframe tbody tr th {\n",
       "        vertical-align: top;\n",
       "    }\n",
       "\n",
       "    .dataframe thead th {\n",
       "        text-align: right;\n",
       "    }\n",
       "</style>\n",
       "<table border=\"1\" class=\"dataframe\">\n",
       "  <thead>\n",
       "    <tr style=\"text-align: right;\">\n",
       "      <th></th>\n",
       "      <th>age</th>\n",
       "      <th>chronic_disease_binary</th>\n",
       "      <th>outcome</th>\n",
       "      <th>sex_code</th>\n",
       "    </tr>\n",
       "  </thead>\n",
       "  <tbody>\n",
       "    <tr>\n",
       "      <th>1</th>\n",
       "      <td>78.0</td>\n",
       "      <td>False</td>\n",
       "      <td>1.0</td>\n",
       "      <td>1</td>\n",
       "    </tr>\n",
       "    <tr>\n",
       "      <th>27</th>\n",
       "      <td>66.0</td>\n",
       "      <td>False</td>\n",
       "      <td>0.0</td>\n",
       "      <td>1</td>\n",
       "    </tr>\n",
       "    <tr>\n",
       "      <th>28</th>\n",
       "      <td>27.0</td>\n",
       "      <td>False</td>\n",
       "      <td>0.0</td>\n",
       "      <td>0</td>\n",
       "    </tr>\n",
       "    <tr>\n",
       "      <th>29</th>\n",
       "      <td>17.0</td>\n",
       "      <td>False</td>\n",
       "      <td>0.0</td>\n",
       "      <td>1</td>\n",
       "    </tr>\n",
       "    <tr>\n",
       "      <th>30</th>\n",
       "      <td>51.0</td>\n",
       "      <td>False</td>\n",
       "      <td>0.0</td>\n",
       "      <td>0</td>\n",
       "    </tr>\n",
       "  </tbody>\n",
       "</table>\n",
       "</div>"
      ],
      "text/plain": [
       "     age  chronic_disease_binary  outcome  sex_code\n",
       "1   78.0                   False      1.0         1\n",
       "27  66.0                   False      0.0         1\n",
       "28  27.0                   False      0.0         0\n",
       "29  17.0                   False      0.0         1\n",
       "30  51.0                   False      0.0         0"
      ]
     },
     "execution_count": 24,
     "metadata": {},
     "output_type": "execute_result"
    }
   ],
   "source": [
    "df_trimmed = df.drop(columns=[\"age_group\", \"country\", \"date_onset_symptoms\",\"city\", \"province\",\n",
    "                     \"date_death_or_discharge\",\"notes_for_discussion\",\"location\",\"notes_for_discussion\",\n",
    "                     \"ID\", \"geo_resolution\", \"date_onset_symptoms\", \"data_moderator_initials\",\"travel_history_dates\",\"date_confirmation\", \"travel_history_binary\",\n",
    "                    \"country_new\", \"city\",\"chronic_disease\", \"additional_information\",\"source\", \"sequence_available\",\"reported_market_exposure\",\"date_admission_hospital\", \"symptoms\", \"travel_history_location\",\n",
    "                    \"lives_in_Wuhan\", \"admin3\", \"admin2\", \"sex\",\"admin1\",\"admin_id\", \"latitude\",\"province_code\", \"age_group_code\",\"longitude\",\n",
    "                             \"country_code\",\"city_code\"])\n",
    "\n",
    "df_trimmed.head()"
   ]
  },
  {
   "cell_type": "code",
   "execution_count": 25,
   "metadata": {},
   "outputs": [],
   "source": [
    "from sklearn import decomposition\n",
    "\n",
    "Y = df_trimmed[\"outcome\"].values\n",
    "X = df_trimmed.drop(columns=[\"outcome\"]).values # Droping useless columns (for this PCA)\n",
    "\n",
    "pca = decomposition.PCA(n_components=2)"
   ]
  },
  {
   "cell_type": "code",
   "execution_count": 26,
   "metadata": {},
   "outputs": [
    {
     "data": {
      "image/png": "[encoded data removed]",
      "text/plain": [
       "<Figure size 432x288 with 1 Axes>"
      ]
     },
     "metadata": {
      "needs_background": "light"
     },
     "output_type": "display_data"
    }
   ],
   "source": [
    "pca.fit(X)\n",
    "X_pca = pca.transform(X)\n",
    "plt.figure()\n",
    "plt.scatter(X_pca[:,0], X_pca[:,1], c=Y)\n",
    "plt.show()"
   ]
  },
  {
   "cell_type": "markdown",
   "metadata": {},
   "source": [
    "# 2. Bayes Nets "
   ]
  },
  {
   "cell_type": "markdown",
   "metadata": {},
   "source": [
    "Bayes Theorem\n",
    "\\begin{equation*}\n",
    "P(A|B) = \\frac{P(B|A) * P(A)}{P(B)}\n",
    "\\end{equation*}"
   ]
  },
  {
   "cell_type": "markdown",
   "metadata": {},
   "source": [
    "## A. $P( Has Symptoms| Visited Wuhan)$\n",
    "\n",
    "Question: \n",
    "What is the probability for a person to have symptoms of COVID-19\n",
    "(symptom_onset=date) if this person visited Wuhan (visiting Wuhan = 1) ? Consider\n",
    "that (symptom_onset=N/A) means that the patient is asymptomatic.\n",
    "\n",
    "--- \n",
    "\n",
    "\n",
    "We are trying to solve:\n",
    "\n",
    "\\begin{equation*}\n",
    "P(Has Symptoms|Visited Wuhan) = \\frac{P(Has Symptoms \\cap Visited Wuhan)}{P(Visited Wuhan)}\n",
    "\\end{equation*}\n",
    "\n"
   ]
  },
  {
   "cell_type": "markdown",
   "metadata": {},
   "source": [
    "\n",
    "$P(VisitedWuhan)$ : the person visited Wuhan if  the _travel_history_location_ is _Wuhan_.\n"
   ]
  },
  {
   "cell_type": "code",
   "execution_count": 27,
   "metadata": {},
   "outputs": [
    {
     "data": {
      "text/plain": [
       "0.18578898800369117"
      ]
     },
     "execution_count": 27,
     "metadata": {},
     "output_type": "execute_result"
    }
   ],
   "source": [
    "total_visited_wuhan = df[df[\"travel_history_location\"] == \"Wuhan\"][\"travel_history_location\"].count()\n",
    "total_history_location = df[\"travel_history_location\"].count() # counting only when the data is about the location is present\n",
    "\n",
    "p_VisitedWuhan = total_visited_wuhan / total_history_location\n",
    "p_VisitedWuhan"
   ]
  },
  {
   "cell_type": "markdown",
   "metadata": {},
   "source": [
    "$P(Has Symptoms \\cap Visited Wuhan)$ : the person visited Wuhan if the travel_history_location and is symptomatic"
   ]
  },
  {
   "cell_type": "code",
   "execution_count": 28,
   "metadata": {},
   "outputs": [
    {
     "data": {
      "text/plain": [
       "166184"
      ]
     },
     "execution_count": 28,
     "metadata": {},
     "output_type": "execute_result"
    }
   ],
   "source": [
    "total = df[\"date_onset_symptoms\"].size\n",
    "total"
   ]
  },
  {
   "cell_type": "code",
   "execution_count": 29,
   "metadata": {},
   "outputs": [
    {
     "data": {
      "text/plain": [
       "56956"
      ]
     },
     "execution_count": 29,
     "metadata": {},
     "output_type": "execute_result"
    }
   ],
   "source": [
    "df[\"date_onset_symptoms\"].isnull().sum()"
   ]
  },
  {
   "cell_type": "code",
   "execution_count": 30,
   "metadata": {},
   "outputs": [
    {
     "data": {
      "text/plain": [
       "337"
      ]
     },
     "execution_count": 30,
     "metadata": {},
     "output_type": "execute_result"
    }
   ],
   "source": [
    "total_has_symptoms_and_visited_wuhan = df[(df[\"date_onset_symptoms\"].isnull() == False)\n",
    "                                          & (df[\"travel_history_location\"] == \"Wuhan\")][\"travel_history_location\"].count()\n",
    "total_has_symptoms_and_visited_wuhan"
   ]
  },
  {
   "cell_type": "code",
   "execution_count": 31,
   "metadata": {},
   "outputs": [
    {
     "data": {
      "text/plain": [
       "0.002027872719395369"
      ]
     },
     "execution_count": 31,
     "metadata": {},
     "output_type": "execute_result"
    }
   ],
   "source": [
    "p_HasSymptomsAndVisitedWuhan = total_has_symptoms_and_visited_wuhan/total\n",
    "p_HasSymptomsAndVisitedWuhan"
   ]
  },
  {
   "cell_type": "markdown",
   "metadata": {},
   "source": [
    "$P(Has Symptoms|Visited Wuhan)$ that we can compute from the previous probabilities \n"
   ]
  },
  {
   "cell_type": "code",
   "execution_count": 32,
   "metadata": {},
   "outputs": [
    {
     "data": {
      "text/plain": [
       "0.010914924189990636"
      ]
     },
     "execution_count": 32,
     "metadata": {},
     "output_type": "execute_result"
    }
   ],
   "source": [
    "p_SymptomsKnowingThatVisitedWuhan = p_HasSymptomsAndVisitedWuhan  / p_VisitedWuhan\n",
    "p_SymptomsKnowingThatVisitedWuhan"
   ]
  },
  {
   "cell_type": "markdown",
   "metadata": {},
   "source": [
    "To conclude there is roughly 1.1% chance that a person who visited Wuhan has the symptoms. "
   ]
  },
  {
   "cell_type": "markdown",
   "metadata": {},
   "source": [
    "## B. $P(Has Symptoms \\cap Visited Wuhan)$"
   ]
  },
  {
   "cell_type": "markdown",
   "metadata": {},
   "source": [
    "What is the probability for a person to be a true patient if this person have symptoms of\n",
    "COVID-19 (symptom_onset=date) and this person visited Wuhan ?"
   ]
  },
  {
   "cell_type": "code",
   "execution_count": 33,
   "metadata": {},
   "outputs": [
    {
     "data": {
      "text/plain": [
       "0.002027872719395369"
      ]
     },
     "execution_count": 33,
     "metadata": {},
     "output_type": "execute_result"
    }
   ],
   "source": [
    "p_HasSymptomsAndVisitedWuhan"
   ]
  },
  {
   "cell_type": "markdown",
   "metadata": {},
   "source": [
    "There is roughly a 0.2% chance that the person has the symptoms and visited Wuhan"
   ]
  },
  {
   "cell_type": "markdown",
   "metadata": {},
   "source": [
    "## C. $P(Died | Visited Wuhan)$\n",
    "\n",
    "What is the probability for a person to death if this person visited Wuhan ?\n",
    "\n",
    "--- \n",
    "\n",
    "\n",
    "We are trying to solve:\n",
    "\n",
    "\\begin{equation*}\n",
    "P(Died|Visited Wuhan) = \\frac{P(Died \\cap Visited Wuhan)}{P(Visited Wuhan)}\n",
    "\\end{equation*}\n",
    "\n",
    "\n"
   ]
  },
  {
   "cell_type": "markdown",
   "metadata": {},
   "source": [
    "$P(Died \\cap Visited Wuhan)$ : People who died (outcome = 1.0) and who visited Wuhan."
   ]
  },
  {
   "cell_type": "code",
   "execution_count": 34,
   "metadata": {},
   "outputs": [
    {
     "data": {
      "text/plain": [
       "0.0009227929867733005"
      ]
     },
     "execution_count": 34,
     "metadata": {},
     "output_type": "execute_result"
    }
   ],
   "source": [
    "total_died_and_visited_wuhan = df[(df[\"travel_history_location\"] == \"Wuhan\") & (df[\"outcome\"] == 1.0)][\"travel_history_location\"].count()\n",
    "p_DiedAndVisitedWuhan = total_died_and_visited_wuhan/total_history_location\n",
    "p_DiedAndVisitedWuhan"
   ]
  },
  {
   "cell_type": "markdown",
   "metadata": {},
   "source": [
    "$P(Died|Visited Wuhan)$ : finally we can compute the probability of a person for death if visiting Wuhan. "
   ]
  },
  {
   "cell_type": "code",
   "execution_count": 96,
   "metadata": {},
   "outputs": [
    {
     "data": {
      "text/plain": [
       "0.49668874172185434"
      ]
     },
     "execution_count": 96,
     "metadata": {},
     "output_type": "execute_result"
    }
   ],
   "source": [
    "p_DiedKnowingThatVisitedWuhan = p_DiedAndVisitedWuhan / p_VisitedWuhan\n",
    "p_DiedKnowingThatVisitedWuhan*100"
   ]
  },
  {
   "cell_type": "markdown",
   "metadata": {},
   "source": [
    "To conclude there is a 0.1% chance that a person dies after visitign Wuhan. "
   ]
  },
  {
   "cell_type": "markdown",
   "metadata": {},
   "source": [
    "## D. Average Recovery Interval for a Person visiting Wuhan "
   ]
  },
  {
   "cell_type": "markdown",
   "metadata": {},
   "source": [
    "We only keep the people who visited wuhan and recovered from the COVID (outcome = 0.0 and who actually have dates relating to the times of their sickness"
   ]
  },
  {
   "cell_type": "code",
   "execution_count": 36,
   "metadata": {
    "scrolled": true
   },
   "outputs": [],
   "source": [
    "df_visiting_wuhan_not_dead = df.dropna(subset=[\"date_onset_symptoms\",\"date_death_or_discharge\"])\n",
    "df_visiting_wuhan_not_dead = df_visiting_wuhan_not_dead[(df_visiting_wuhan_not_dead[\"travel_history_location\"] == \"Wuhan\") & (df_visiting_wuhan_not_dead[\"outcome\"] == 0.0)]\n"
   ]
  },
  {
   "cell_type": "markdown",
   "metadata": {},
   "source": [
    "We'll assume $[dateOnsetSymptoms, dateDeathOrDischarge]$ as the interval during which the patient is sick.\n",
    "\n"
   ]
  },
  {
   "cell_type": "code",
   "execution_count": 37,
   "metadata": {},
   "outputs": [
    {
     "data": {
      "text/html": [
       "<div>\n",
       "<style scoped>\n",
       "    .dataframe tbody tr th:only-of-type {\n",
       "        vertical-align: middle;\n",
       "    }\n",
       "\n",
       "    .dataframe tbody tr th {\n",
       "        vertical-align: top;\n",
       "    }\n",
       "\n",
       "    .dataframe thead th {\n",
       "        text-align: right;\n",
       "    }\n",
       "</style>\n",
       "<table border=\"1\" class=\"dataframe\">\n",
       "  <thead>\n",
       "    <tr style=\"text-align: right;\">\n",
       "      <th></th>\n",
       "      <th>ID</th>\n",
       "      <th>age</th>\n",
       "      <th>sex</th>\n",
       "      <th>city</th>\n",
       "      <th>province</th>\n",
       "      <th>country</th>\n",
       "      <th>latitude</th>\n",
       "      <th>longitude</th>\n",
       "      <th>geo_resolution</th>\n",
       "      <th>date_onset_symptoms</th>\n",
       "      <th>...</th>\n",
       "      <th>country_new</th>\n",
       "      <th>admin_id</th>\n",
       "      <th>data_moderator_initials</th>\n",
       "      <th>travel_history_binary</th>\n",
       "      <th>country_code</th>\n",
       "      <th>province_code</th>\n",
       "      <th>city_code</th>\n",
       "      <th>sex_code</th>\n",
       "      <th>age_group</th>\n",
       "      <th>age_group_code</th>\n",
       "    </tr>\n",
       "  </thead>\n",
       "  <tbody>\n",
       "    <tr>\n",
       "      <th>3223</th>\n",
       "      <td>000-1-129</td>\n",
       "      <td>44.0</td>\n",
       "      <td>female</td>\n",
       "      <td>Wushan County</td>\n",
       "      <td>Chongqing</td>\n",
       "      <td>China</td>\n",
       "      <td>31.117740</td>\n",
       "      <td>109.896200</td>\n",
       "      <td>admin3</td>\n",
       "      <td>15.01.2020</td>\n",
       "      <td>...</td>\n",
       "      <td>China</td>\n",
       "      <td>9426.0</td>\n",
       "      <td>NaN</td>\n",
       "      <td>NaN</td>\n",
       "      <td>10</td>\n",
       "      <td>77</td>\n",
       "      <td>1838</td>\n",
       "      <td>0</td>\n",
       "      <td>Adult</td>\n",
       "      <td>0</td>\n",
       "    </tr>\n",
       "    <tr>\n",
       "      <th>3335</th>\n",
       "      <td>000-1-130</td>\n",
       "      <td>39.0</td>\n",
       "      <td>female</td>\n",
       "      <td>Xishuangbanna Prefecture</td>\n",
       "      <td>Yunnan</td>\n",
       "      <td>China</td>\n",
       "      <td>21.931390</td>\n",
       "      <td>100.947700</td>\n",
       "      <td>admin2</td>\n",
       "      <td>18.01.2020</td>\n",
       "      <td>...</td>\n",
       "      <td>China</td>\n",
       "      <td>9649.0</td>\n",
       "      <td>NaN</td>\n",
       "      <td>NaN</td>\n",
       "      <td>10</td>\n",
       "      <td>390</td>\n",
       "      <td>1851</td>\n",
       "      <td>0</td>\n",
       "      <td>Adult</td>\n",
       "      <td>0</td>\n",
       "    </tr>\n",
       "    <tr>\n",
       "      <th>4334</th>\n",
       "      <td>000-1-139</td>\n",
       "      <td>54.0</td>\n",
       "      <td>male</td>\n",
       "      <td>Toronto</td>\n",
       "      <td>Ontario</td>\n",
       "      <td>Canada</td>\n",
       "      <td>43.725290</td>\n",
       "      <td>-79.387000</td>\n",
       "      <td>admin2</td>\n",
       "      <td>22.01.2020</td>\n",
       "      <td>...</td>\n",
       "      <td>Canada</td>\n",
       "      <td>8739.0</td>\n",
       "      <td>NaN</td>\n",
       "      <td>NaN</td>\n",
       "      <td>8</td>\n",
       "      <td>272</td>\n",
       "      <td>1703</td>\n",
       "      <td>1</td>\n",
       "      <td>Adult</td>\n",
       "      <td>0</td>\n",
       "    </tr>\n",
       "    <tr>\n",
       "      <th>5223</th>\n",
       "      <td>000-1-147</td>\n",
       "      <td>38.0</td>\n",
       "      <td>female</td>\n",
       "      <td>Manila</td>\n",
       "      <td>National Capital Region (NCR)</td>\n",
       "      <td>Philippines</td>\n",
       "      <td>14.595800</td>\n",
       "      <td>120.977200</td>\n",
       "      <td>point</td>\n",
       "      <td>25.01.2020</td>\n",
       "      <td>...</td>\n",
       "      <td>Philippines</td>\n",
       "      <td>5933.0</td>\n",
       "      <td>NaN</td>\n",
       "      <td>NaN</td>\n",
       "      <td>32</td>\n",
       "      <td>242</td>\n",
       "      <td>1052</td>\n",
       "      <td>0</td>\n",
       "      <td>Adult</td>\n",
       "      <td>0</td>\n",
       "    </tr>\n",
       "    <tr>\n",
       "      <th>8112</th>\n",
       "      <td>000-1-173</td>\n",
       "      <td>30.0</td>\n",
       "      <td>female</td>\n",
       "      <td>Paris</td>\n",
       "      <td>Ile-de-France</td>\n",
       "      <td>France</td>\n",
       "      <td>48.856660</td>\n",
       "      <td>2.342325</td>\n",
       "      <td>admin2</td>\n",
       "      <td>23.01.2020</td>\n",
       "      <td>...</td>\n",
       "      <td>France</td>\n",
       "      <td>6904.0</td>\n",
       "      <td>NaN</td>\n",
       "      <td>NaN</td>\n",
       "      <td>16</td>\n",
       "      <td>157</td>\n",
       "      <td>1293</td>\n",
       "      <td>0</td>\n",
       "      <td>Adult</td>\n",
       "      <td>0</td>\n",
       "    </tr>\n",
       "    <tr>\n",
       "      <th>8223</th>\n",
       "      <td>000-1-174</td>\n",
       "      <td>31.0</td>\n",
       "      <td>male</td>\n",
       "      <td>Paris</td>\n",
       "      <td>Ile-de-France</td>\n",
       "      <td>France</td>\n",
       "      <td>48.856660</td>\n",
       "      <td>2.342325</td>\n",
       "      <td>admin2</td>\n",
       "      <td>19.01.2020</td>\n",
       "      <td>...</td>\n",
       "      <td>France</td>\n",
       "      <td>6904.0</td>\n",
       "      <td>NaN</td>\n",
       "      <td>NaN</td>\n",
       "      <td>16</td>\n",
       "      <td>157</td>\n",
       "      <td>1293</td>\n",
       "      <td>1</td>\n",
       "      <td>Adult</td>\n",
       "      <td>0</td>\n",
       "    </tr>\n",
       "    <tr>\n",
       "      <th>8667</th>\n",
       "      <td>000-1-178</td>\n",
       "      <td>24.0</td>\n",
       "      <td>female</td>\n",
       "      <td>London</td>\n",
       "      <td>Ontario</td>\n",
       "      <td>Canada</td>\n",
       "      <td>42.983611</td>\n",
       "      <td>-81.249722</td>\n",
       "      <td>point</td>\n",
       "      <td>24.01.2020</td>\n",
       "      <td>...</td>\n",
       "      <td>Canada</td>\n",
       "      <td>5660.0</td>\n",
       "      <td>NaN</td>\n",
       "      <td>NaN</td>\n",
       "      <td>8</td>\n",
       "      <td>272</td>\n",
       "      <td>981</td>\n",
       "      <td>0</td>\n",
       "      <td>Adult</td>\n",
       "      <td>0</td>\n",
       "    </tr>\n",
       "    <tr>\n",
       "      <th>122905</th>\n",
       "      <td>002-3379</td>\n",
       "      <td>38.0</td>\n",
       "      <td>female</td>\n",
       "      <td>Manila</td>\n",
       "      <td>National Capital Region (NCR)</td>\n",
       "      <td>Philippines</td>\n",
       "      <td>14.595800</td>\n",
       "      <td>120.977200</td>\n",
       "      <td>point</td>\n",
       "      <td>25.01.2020</td>\n",
       "      <td>...</td>\n",
       "      <td>Philippines</td>\n",
       "      <td>5933.0</td>\n",
       "      <td>NaN</td>\n",
       "      <td>True</td>\n",
       "      <td>32</td>\n",
       "      <td>242</td>\n",
       "      <td>1052</td>\n",
       "      <td>0</td>\n",
       "      <td>Adult</td>\n",
       "      <td>0</td>\n",
       "    </tr>\n",
       "    <tr>\n",
       "      <th>124235</th>\n",
       "      <td>002-368</td>\n",
       "      <td>39.0</td>\n",
       "      <td>female</td>\n",
       "      <td>Xishuangbanna Prefecture</td>\n",
       "      <td>Yunnan</td>\n",
       "      <td>China</td>\n",
       "      <td>21.931390</td>\n",
       "      <td>100.947700</td>\n",
       "      <td>admin2</td>\n",
       "      <td>18.01.2020</td>\n",
       "      <td>...</td>\n",
       "      <td>China</td>\n",
       "      <td>9649.0</td>\n",
       "      <td>NaN</td>\n",
       "      <td>True</td>\n",
       "      <td>10</td>\n",
       "      <td>390</td>\n",
       "      <td>1851</td>\n",
       "      <td>0</td>\n",
       "      <td>Adult</td>\n",
       "      <td>0</td>\n",
       "    </tr>\n",
       "    <tr>\n",
       "      <th>127257</th>\n",
       "      <td>002-64</td>\n",
       "      <td>44.0</td>\n",
       "      <td>female</td>\n",
       "      <td>Wushan County</td>\n",
       "      <td>Chongqing</td>\n",
       "      <td>China</td>\n",
       "      <td>31.117740</td>\n",
       "      <td>109.896200</td>\n",
       "      <td>admin3</td>\n",
       "      <td>15.01.2020</td>\n",
       "      <td>...</td>\n",
       "      <td>China</td>\n",
       "      <td>9426.0</td>\n",
       "      <td>NaN</td>\n",
       "      <td>True</td>\n",
       "      <td>10</td>\n",
       "      <td>77</td>\n",
       "      <td>1838</td>\n",
       "      <td>0</td>\n",
       "      <td>Adult</td>\n",
       "      <td>0</td>\n",
       "    </tr>\n",
       "    <tr>\n",
       "      <th>305301</th>\n",
       "      <td>005-47764</td>\n",
       "      <td>71.0</td>\n",
       "      <td>female</td>\n",
       "      <td>London</td>\n",
       "      <td>Ontario</td>\n",
       "      <td>Canada</td>\n",
       "      <td>42.983611</td>\n",
       "      <td>-81.249722</td>\n",
       "      <td>point</td>\n",
       "      <td>24.01.2020</td>\n",
       "      <td>...</td>\n",
       "      <td>Canada</td>\n",
       "      <td>5660.0</td>\n",
       "      <td>NaN</td>\n",
       "      <td>False</td>\n",
       "      <td>8</td>\n",
       "      <td>272</td>\n",
       "      <td>981</td>\n",
       "      <td>0</td>\n",
       "      <td>Elderly</td>\n",
       "      <td>2</td>\n",
       "    </tr>\n",
       "  </tbody>\n",
       "</table>\n",
       "<p>11 rows × 39 columns</p>\n",
       "</div>"
      ],
      "text/plain": [
       "               ID   age     sex                      city  \\\n",
       "3223    000-1-129  44.0  female             Wushan County   \n",
       "3335    000-1-130  39.0  female  Xishuangbanna Prefecture   \n",
       "4334    000-1-139  54.0    male                   Toronto   \n",
       "5223    000-1-147  38.0  female                    Manila   \n",
       "8112    000-1-173  30.0  female                     Paris   \n",
       "8223    000-1-174  31.0    male                     Paris   \n",
       "8667    000-1-178  24.0  female                    London   \n",
       "122905   002-3379  38.0  female                    Manila   \n",
       "124235    002-368  39.0  female  Xishuangbanna Prefecture   \n",
       "127257     002-64  44.0  female             Wushan County   \n",
       "305301  005-47764  71.0  female                    London   \n",
       "\n",
       "                             province      country   latitude   longitude  \\\n",
       "3223                        Chongqing        China  31.117740  109.896200   \n",
       "3335                           Yunnan        China  21.931390  100.947700   \n",
       "4334                          Ontario       Canada  43.725290  -79.387000   \n",
       "5223    National Capital Region (NCR)  Philippines  14.595800  120.977200   \n",
       "8112                    Ile-de-France       France  48.856660    2.342325   \n",
       "8223                    Ile-de-France       France  48.856660    2.342325   \n",
       "8667                          Ontario       Canada  42.983611  -81.249722   \n",
       "122905  National Capital Region (NCR)  Philippines  14.595800  120.977200   \n",
       "124235                         Yunnan        China  21.931390  100.947700   \n",
       "127257                      Chongqing        China  31.117740  109.896200   \n",
       "305301                        Ontario       Canada  42.983611  -81.249722   \n",
       "\n",
       "       geo_resolution date_onset_symptoms  ...  country_new admin_id  \\\n",
       "3223           admin3          15.01.2020  ...        China   9426.0   \n",
       "3335           admin2          18.01.2020  ...        China   9649.0   \n",
       "4334           admin2          22.01.2020  ...       Canada   8739.0   \n",
       "5223            point          25.01.2020  ...  Philippines   5933.0   \n",
       "8112           admin2          23.01.2020  ...       France   6904.0   \n",
       "8223           admin2          19.01.2020  ...       France   6904.0   \n",
       "8667            point          24.01.2020  ...       Canada   5660.0   \n",
       "122905          point          25.01.2020  ...  Philippines   5933.0   \n",
       "124235         admin2          18.01.2020  ...        China   9649.0   \n",
       "127257         admin3          15.01.2020  ...        China   9426.0   \n",
       "305301          point          24.01.2020  ...       Canada   5660.0   \n",
       "\n",
       "       data_moderator_initials travel_history_binary country_code  \\\n",
       "3223                       NaN                   NaN           10   \n",
       "3335                       NaN                   NaN           10   \n",
       "4334                       NaN                   NaN            8   \n",
       "5223                       NaN                   NaN           32   \n",
       "8112                       NaN                   NaN           16   \n",
       "8223                       NaN                   NaN           16   \n",
       "8667                       NaN                   NaN            8   \n",
       "122905                     NaN                  True           32   \n",
       "124235                     NaN                  True           10   \n",
       "127257                     NaN                  True           10   \n",
       "305301                     NaN                 False            8   \n",
       "\n",
       "       province_code city_code sex_code  age_group age_group_code  \n",
       "3223              77      1838        0      Adult              0  \n",
       "3335             390      1851        0      Adult              0  \n",
       "4334             272      1703        1      Adult              0  \n",
       "5223             242      1052        0      Adult              0  \n",
       "8112             157      1293        0      Adult              0  \n",
       "8223             157      1293        1      Adult              0  \n",
       "8667             272       981        0      Adult              0  \n",
       "122905           242      1052        0      Adult              0  \n",
       "124235           390      1851        0      Adult              0  \n",
       "127257            77      1838        0      Adult              0  \n",
       "305301           272       981        0    Elderly              2  \n",
       "\n",
       "[11 rows x 39 columns]"
      ]
     },
     "execution_count": 37,
     "metadata": {},
     "output_type": "execute_result"
    }
   ],
   "source": [
    "df_visiting_wuhan_not_dead"
   ]
  },
  {
   "cell_type": "markdown",
   "metadata": {},
   "source": [
    "To facilitate the computation of average recovery time, each date will be computed into seconds."
   ]
  },
  {
   "cell_type": "code",
   "execution_count": 38,
   "metadata": {},
   "outputs": [],
   "source": [
    "from datetime import datetime\n",
    "\n",
    "computed_row = []\n",
    "\n",
    "for row in df_visiting_wuhan_not_dead.T.to_dict().values():\n",
    "    start_date = datetime.strptime(row[\"date_onset_symptoms\"],\"%d.%m.%Y\").strftime(\"%s\")\n",
    "    end_date = datetime.strptime(row[\"date_death_or_discharge\"],\"%d.%m.%Y\").strftime(\"%s\")\n",
    "    recovery_time = int(end_date) - int(start_date)\n",
    "    computed_row.append(recovery_time)\n",
    "\n",
    "df_visiting_wuhan_not_dead[\"recovery_time\"] = computed_row"
   ]
  },
  {
   "cell_type": "code",
   "execution_count": 39,
   "metadata": {},
   "outputs": [],
   "source": [
    "average_recovery_seconds = int(df_visiting_wuhan_not_dead[\"recovery_time\"].mean())"
   ]
  },
  {
   "cell_type": "code",
   "execution_count": 40,
   "metadata": {},
   "outputs": [
    {
     "data": {
      "text/plain": [
       "datetime.timedelta(days=17, seconds=47127)"
      ]
     },
     "execution_count": 40,
     "metadata": {},
     "output_type": "execute_result"
    }
   ],
   "source": [
    "from datetime import timedelta\n",
    "\n",
    "average_datetime = timedelta(seconds=average_recovery_seconds)\n",
    "average_datetime"
   ]
  },
  {
   "cell_type": "markdown",
   "metadata": {},
   "source": [
    "The Average recovery interval a patient who visited Wuhan is 17 days."
   ]
  },
  {
   "cell_type": "markdown",
   "metadata": {},
   "source": [
    "# 3. Machine Learning"
   ]
  },
  {
   "cell_type": "code",
   "execution_count": 41,
   "metadata": {},
   "outputs": [
    {
     "data": {
      "text/plain": [
       "Index(['age', 'chronic_disease_binary', 'outcome', 'country_code', 'sex_code'], dtype='object')"
      ]
     },
     "execution_count": 41,
     "metadata": {},
     "output_type": "execute_result"
    }
   ],
   "source": [
    "to_drop = ['ID','city', 'province', 'country', 'latitude',\n",
    "           'longitude', 'geo_resolution','reported_market_exposure',\n",
    "           'additional_information','notes_for_discussion', 'data_moderator_initials',\n",
    "           'date_onset_symptoms','date_admission_hospital','symptoms','lives_in_Wuhan',\n",
    "           'travel_history_dates','travel_history_location','chronic_disease','source',\n",
    "           'sequence_available','date_death_or_discharge',\n",
    "           'location','admin3','admin2','admin1','travel_history_binary', 'age_group',\n",
    "          \"admin_id\", \"admin_id\", \"sex\", \"date_confirmation\", \"country_new\", \"age_group_code\", \"province_code\",\"city_code\" ]\n",
    "        \n",
    "df_ml = df.drop(to_drop,axis=1)\n",
    "df_ml.columns"
   ]
  },
  {
   "cell_type": "code",
   "execution_count": 42,
   "metadata": {},
   "outputs": [
    {
     "data": {
      "text/plain": [
       "age                       0\n",
       "chronic_disease_binary    0\n",
       "outcome                   0\n",
       "country_code              0\n",
       "sex_code                  0\n",
       "dtype: int64"
      ]
     },
     "execution_count": 42,
     "metadata": {},
     "output_type": "execute_result"
    }
   ],
   "source": [
    "df_ml.isna().sum()"
   ]
  },
  {
   "cell_type": "markdown",
   "metadata": {},
   "source": [
    " Spliting Data set into train and test"
   ]
  },
  {
   "cell_type": "code",
   "execution_count": 43,
   "metadata": {},
   "outputs": [],
   "source": [
    "Y = df_ml[\"outcome\"].values\n",
    "X = df_ml.drop(columns=[\"outcome\"]).values"
   ]
  },
  {
   "cell_type": "markdown",
   "metadata": {},
   "source": [
    " Spliting Data set into train and test"
   ]
  },
  {
   "cell_type": "code",
   "execution_count": 44,
   "metadata": {},
   "outputs": [],
   "source": [
    "from sklearn import model_selection\n",
    "\n",
    "x_train, x_test, y_train, y_test = model_selection.train_test_split(X, Y,test_size=0.3)"
   ]
  },
  {
   "cell_type": "markdown",
   "metadata": {},
   "source": [
    "_Normalizing dataset_"
   ]
  },
  {
   "cell_type": "code",
   "execution_count": 45,
   "metadata": {},
   "outputs": [],
   "source": [
    "from sklearn import preprocessing\n",
    "\n",
    "std_scale = preprocessing.StandardScaler().fit(X)\n",
    "x_train_std = std_scale.transform(x_train)\n",
    "x_test_std = std_scale.transform(x_test)"
   ]
  },
  {
   "cell_type": "markdown",
   "metadata": {},
   "source": [
    " vizualizing un normalized training set"
   ]
  },
  {
   "cell_type": "code",
   "execution_count": 46,
   "metadata": {},
   "outputs": [
    {
     "data": {
      "image/png": "[encoded data removed]",
      "text/plain": [
       "<Figure size 1152x864 with 4 Axes>"
      ]
     },
     "metadata": {
      "needs_background": "light"
     },
     "output_type": "display_data"
    }
   ],
   "source": [
    "fig = plt.figure(figsize=(16, 12))\n",
    "column_names = [col for col in list(df_ml.columns) if col != \"outcome\"]\n",
    "\n",
    "for feat_idx in range(x_train_std.shape[1]):\n",
    "    ax = fig.add_subplot(3,4, (feat_idx+1))\n",
    "    h = ax.hist(x_train_std[:, feat_idx], bins=50, color = 'steelblue', density=True, edgecolor='none')\n",
    "    ax.set_title(column_names[feat_idx], fontsize=14)"
   ]
  },
  {
   "cell_type": "markdown",
   "metadata": {},
   "source": [
    "## A.Selecting a model"
   ]
  },
  {
   "cell_type": "markdown",
   "metadata": {},
   "source": [
    "### Computing a baseline\n",
    "\n",
    "The baseline is a  classiefier model with poor resultats that we will use to give us an idea of what are relatively to our problem poor results.\n",
    "\n",
    "Here we chose a Dummy Classifier that will always predicts the most frequent class of the dataset (which in our case will be outcome = 0)."
   ]
  },
  {
   "cell_type": "code",
   "execution_count": 47,
   "metadata": {},
   "outputs": [],
   "source": [
    "from sklearn.dummy import DummyClassifier \n",
    "dum = DummyClassifier(strategy='most_frequent')\n",
    "\n",
    "\n",
    "dum.fit(x_train_std, y_train)\n",
    "y_pred_dum = dum.predict(x_test_std)"
   ]
  },
  {
   "cell_type": "markdown",
   "metadata": {},
   "source": [
    "### Evaluating the baseline"
   ]
  },
  {
   "cell_type": "markdown",
   "metadata": {},
   "source": [
    "*RMSE*: Root Mean Square Value. Differences between values predicted by a model and the values observed.\n",
    "\n",
    "\\begin{equation*}\n",
    "rmse = \\sqrt{(\\frac{1}{n})\\sum_{i=1}^{n}(y_{i} - x_{i})^{2}}\n",
    "\\end{equation*}\n",
    "  \n",
    "\n",
    "*Acuracy Score*: ratio of number of correct predictions to the total number of input samples. "
   ]
  },
  {
   "cell_type": "code",
   "execution_count": 48,
   "metadata": {},
   "outputs": [
    {
     "name": "stdout",
     "output_type": "stream",
     "text": [
      "RMSE : 0.03\n",
      "Accuracy Score: 1.00\n"
     ]
    }
   ],
   "source": [
    "from sklearn import metrics\n",
    "\n",
    "print(\"RMSE : {:.2f}\".format(np.sqrt(metrics.mean_squared_error(y_test, y_pred_dum))))\n",
    "print(\"Accuracy Score: {:.2f}\".format(metrics.accuracy_score(y_test,y_pred_dum)))"
   ]
  },
  {
   "cell_type": "markdown",
   "metadata": {},
   "source": [
    "*AUC - ROC curve:* performance measurement for classification problem at various thresholds settings. ROC is a probability curve and AUC represents degree or measure of separability. It tells how much model is capable of distinguishing between classes.\n",
    "\n",
    "\n",
    "*AUC*: Area Under The Curve\n",
    "\n",
    "*ROC*: Receiver Operating Characteristics\n",
    "\n",
    "\n",
    "*TP*: True Positive\n",
    "\n",
    "*FP*: False Positive\n",
    "\n",
    "*FN*: False Negative \n",
    "\n",
    "*TN*: True Negative\n",
    "\n",
    "\n",
    "\n",
    "*True Positive Rate / Recall / Sensitivity*: \n",
    "\\begin{equation*}\n",
    "Recall = \\frac{TP}{TP+FN}\n",
    "\\end{equation*}\n",
    "\n",
    "*False Positive Rate*: \n",
    "\\begin{equation*}\n",
    "1 - Specificity = 1 - \\frac{FP}{TN+FP}\n",
    "\\end{equation*}\n",
    "\n",
    "\n",
    "\n",
    "\n",
    "Higher the Area Under the curve, the better the model is ! (AUC closer to 1.0 )\n",
    "\n",
    "\n",
    "\n",
    "\n",
    "source : https://towardsdatascience.com/understanding-auc-roc-curve-68b2303cc9c5\n"
   ]
  },
  {
   "cell_type": "code",
   "execution_count": 49,
   "metadata": {},
   "outputs": [
    {
     "data": {
      "image/png": "[encoded data removed]",
      "text/plain": [
       "<Figure size 720x720 with 1 Axes>"
      ]
     },
     "metadata": {
      "needs_background": "light"
     },
     "output_type": "display_data"
    }
   ],
   "source": [
    "from sklearn.metrics import roc_curve, auc\n",
    "false_positive_rate, true_positive_rate, thresholds = roc_curve(y_test, y_pred_dum)\n",
    "roc_auc = auc(false_positive_rate, true_positive_rate)\n",
    "\n",
    "plt.figure(figsize=(10,10))\n",
    "plt.title('ROC AUC Curve')\n",
    "plt.plot(false_positive_rate,true_positive_rate, color='red',label = 'AUC = %0.2f' % roc_auc)\n",
    "plt.legend(loc = 'lower right')\n",
    "plt.plot([0, 1], [0, 1],linestyle='--')\n",
    "plt.axis('tight')\n",
    "plt.ylabel('True Positive Rate / Recall')\n",
    "plt.xlabel('False Positive Rate / Specificity')\n",
    "plt.show()"
   ]
  },
  {
   "cell_type": "markdown",
   "metadata": {},
   "source": [
    "The ROC curve here indicates that the Dummy Classifier doesn't make any differences between the classes."
   ]
  },
  {
   "cell_type": "markdown",
   "metadata": {},
   "source": [
    "### KNN Modeling "
   ]
  },
  {
   "cell_type": "code",
   "execution_count": 50,
   "metadata": {},
   "outputs": [
    {
     "data": {
      "text/plain": [
       "KNeighborsClassifier(algorithm='auto', leaf_size=30, metric='minkowski',\n",
       "                     metric_params=None, n_jobs=None, n_neighbors=4, p=2,\n",
       "                     weights='uniform')"
      ]
     },
     "execution_count": 50,
     "metadata": {},
     "output_type": "execute_result"
    }
   ],
   "source": [
    "from sklearn import neighbors, metrics\n",
    "\n",
    "clf = neighbors.KNeighborsClassifier(4)\n",
    "\n",
    "clf.fit(x_train_std, y_train)"
   ]
  },
  {
   "cell_type": "code",
   "execution_count": 51,
   "metadata": {},
   "outputs": [],
   "source": [
    "y_predict = clf.predict(x_test_std)"
   ]
  },
  {
   "cell_type": "markdown",
   "metadata": {},
   "source": [
    "### Evaluating the 3 neighbor KNN Unbalanced Dataset\n"
   ]
  },
  {
   "cell_type": "code",
   "execution_count": 52,
   "metadata": {},
   "outputs": [
    {
     "name": "stdout",
     "output_type": "stream",
     "text": [
      "RMSE : 0.02\n",
      "Accuracy Score: 1.00\n"
     ]
    }
   ],
   "source": [
    "print(\"RMSE : {:.2f}\".format(np.sqrt(metrics.mean_squared_error(y_test, y_predict))))\n",
    "print(\"Accuracy Score: {:.2f}\".format(metrics.accuracy_score(y_test,y_predict)))"
   ]
  },
  {
   "cell_type": "markdown",
   "metadata": {},
   "source": [
    "The results of the RMSE and the Accuracy are the same as the baseline which isn't a good indicator."
   ]
  },
  {
   "cell_type": "code",
   "execution_count": 53,
   "metadata": {},
   "outputs": [
    {
     "data": {
      "image/png": "[encoded data removed]",
      "text/plain": [
       "<Figure size 720x720 with 1 Axes>"
      ]
     },
     "metadata": {
      "needs_background": "light"
     },
     "output_type": "display_data"
    }
   ],
   "source": [
    "from sklearn.metrics import roc_curve, auc\n",
    "false_positive_rate, true_positive_rate, thresholds = roc_curve(y_test, y_predict)\n",
    "roc_auc = auc(false_positive_rate, true_positive_rate)\n",
    "\n",
    "plt.figure(figsize=(10,10))\n",
    "plt.title('ROC AUC Curve')\n",
    "plt.plot(false_positive_rate,true_positive_rate, color='red',label = 'AUC = %0.2f' % roc_auc)\n",
    "plt.legend(loc = 'lower right')\n",
    "plt.plot([0, 1], [0, 1],linestyle='--')\n",
    "plt.axis('tight')\n",
    "plt.ylabel('True Positive Rate / Recall')\n",
    "plt.xlabel('False Positive Rate / Specificity')\n",
    "plt.show()"
   ]
  },
  {
   "cell_type": "markdown",
   "metadata": {},
   "source": [
    "The ROC shows that the model performs better than the dummy classifier.\n",
    "The model has a a fair AUC of 0.67 but therefore isn't precise at all"
   ]
  },
  {
   "cell_type": "code",
   "execution_count": 54,
   "metadata": {},
   "outputs": [
    {
     "data": {
      "text/plain": [
       "0.10229460847240052"
      ]
     },
     "execution_count": 54,
     "metadata": {},
     "output_type": "execute_result"
    }
   ],
   "source": [
    "# positive percentage in test set \n",
    "(y_test.sum()/y_test.shape[0]) * 100"
   ]
  },
  {
   "cell_type": "code",
   "execution_count": 55,
   "metadata": {},
   "outputs": [
    {
     "data": {
      "text/plain": [
       "0.11347225087683104"
      ]
     },
     "execution_count": 55,
     "metadata": {},
     "output_type": "execute_result"
    }
   ],
   "source": [
    "# positive percentage in test set \n",
    "(y_train.sum()/y_train.shape[0]) * 100"
   ]
  },
  {
   "cell_type": "markdown",
   "metadata": {},
   "source": [
    "The proportion of positive classes (outcome = 1.0 which means patient dies) is very small and is around 0.1% of the dataset in train and in test.\n",
    "\n",
    "This heavily impacts the predictions of our KNN. One solution would be increase the proportion of \"positive\" outcomes for the training or changing to another type of model.  "
   ]
  },
  {
   "cell_type": "markdown",
   "metadata": {},
   "source": [
    "## B. Age Prediction using Regression\n",
    "\n",
    "Use the Regression to predict the age of persons based on other variables. You have the\n",
    "choice on these explanatory variables? How you choose these variables? Compute the\n",
    "quality of the prediction using MSE error (Mean Squared Error)\n"
   ]
  },
  {
   "cell_type": "code",
   "execution_count": 56,
   "metadata": {},
   "outputs": [
    {
     "data": {
      "text/plain": [
       "Index(['age', 'chronic_disease_binary', 'outcome', 'country_code', 'sex_code'], dtype='object')"
      ]
     },
     "execution_count": 56,
     "metadata": {},
     "output_type": "execute_result"
    }
   ],
   "source": [
    "df_ml.columns"
   ]
  },
  {
   "cell_type": "markdown",
   "metadata": {},
   "source": [
    "As a label of the regression we will use an the `age` and use the following variables :\n",
    "- *chronic_disease_binary*: boolean whether the person has a chronic disease, chronic disease can be increasted at a late age.\n",
    "- *outcome*: number 1.0 died, 0.0 recovered\n",
    "- *country_code*: number associated to the country \n",
    "- *sex_code*: 0.0 female, 1.0 male\n",
    "\n"
   ]
  },
  {
   "cell_type": "markdown",
   "metadata": {},
   "source": [
    "### Preparing dataset"
   ]
  },
  {
   "cell_type": "code",
   "execution_count": 57,
   "metadata": {},
   "outputs": [],
   "source": [
    "Y = df_ml[\"age\"].values\n",
    "X = df_ml.drop(columns=[\"age\"]).values"
   ]
  },
  {
   "cell_type": "code",
   "execution_count": 58,
   "metadata": {},
   "outputs": [],
   "source": [
    "x_train, x_test, y_train, y_test = model_selection.train_test_split(X, Y,test_size=0.3)"
   ]
  },
  {
   "cell_type": "code",
   "execution_count": 59,
   "metadata": {},
   "outputs": [],
   "source": [
    "from sklearn import preprocessing\n",
    "\n",
    "std_scale = preprocessing.StandardScaler().fit(X)\n",
    "x_train_std = std_scale.transform(x_train)\n",
    "x_test_std = std_scale.transform(x_test)"
   ]
  },
  {
   "cell_type": "markdown",
   "metadata": {},
   "source": [
    "### Training Regression Model"
   ]
  },
  {
   "cell_type": "code",
   "execution_count": 60,
   "metadata": {
    "scrolled": true
   },
   "outputs": [
    {
     "data": {
      "text/plain": [
       "KNeighborsRegressor(algorithm='auto', leaf_size=30, metric='minkowski',\n",
       "                    metric_params=None, n_jobs=None, n_neighbors=4, p=2,\n",
       "                    weights='uniform')"
      ]
     },
     "execution_count": 60,
     "metadata": {},
     "output_type": "execute_result"
    }
   ],
   "source": [
    "from sklearn import neighbors, model_selection\n",
    "\n",
    "knn = neighbors.KNeighborsRegressor(4)\n",
    "\n",
    "knn.fit(x_train_std, y_train)"
   ]
  },
  {
   "cell_type": "markdown",
   "metadata": {},
   "source": [
    "### Evaluating Model Performances"
   ]
  },
  {
   "cell_type": "code",
   "execution_count": 61,
   "metadata": {},
   "outputs": [],
   "source": [
    "y_pred = knn.predict(x_test_std)"
   ]
  },
  {
   "cell_type": "markdown",
   "metadata": {},
   "source": [
    "Rounding the predicted ages"
   ]
  },
  {
   "cell_type": "code",
   "execution_count": 62,
   "metadata": {},
   "outputs": [],
   "source": [
    "y_pred = np.around(y_pred, decimals=0)"
   ]
  },
  {
   "cell_type": "code",
   "execution_count": 63,
   "metadata": {},
   "outputs": [
    {
     "name": "stdout",
     "output_type": "stream",
     "text": [
      "MSE : 18.84\n",
      "MAD : 3.80\n"
     ]
    }
   ],
   "source": [
    "print(\"MSE : {:.2f}\".format(np.sqrt(metrics.mean_squared_error(y_test, y_pred) )))\n",
    "print(\"MAD : {:.2f}\".format(np.sqrt(metrics.mean_absolute_error(y_test, y_pred) )))"
   ]
  },
  {
   "cell_type": "markdown",
   "metadata": {},
   "source": [
    "Plotting Results"
   ]
  },
  {
   "cell_type": "code",
   "execution_count": 64,
   "metadata": {},
   "outputs": [
    {
     "data": {
      "text/plain": [
       "Text(0.5, 0, 'Actual Age')"
      ]
     },
     "execution_count": 64,
     "metadata": {},
     "output_type": "execute_result"
    },
    {
     "data": {
      "image/png": "[encoded data removed]",
      "text/plain": [
       "<Figure size 432x288 with 1 Axes>"
      ]
     },
     "metadata": {
      "needs_background": "light"
     },
     "output_type": "display_data"
    }
   ],
   "source": [
    "plt.scatter(y_test[::200],y_pred[::200], color='coral')\n",
    "plt.ylabel('Predicted Age')\n",
    "plt.xlabel('Actual Age')"
   ]
  },
  {
   "cell_type": "markdown",
   "metadata": {},
   "source": [
    "Our Model seems to perform poorly"
   ]
  },
  {
   "cell_type": "markdown",
   "metadata": {},
   "source": [
    "## C.  Clustering Method\n",
    "\n",
    "Apply a clustering method (K-means) on the dataset to segment the persons in different\n",
    "clusters. Use the Silhouette index to find out the best number of clusters. Plot the results\n",
    "using scatter to visually analyse the clustering structure. "
   ]
  },
  {
   "cell_type": "code",
   "execution_count": 65,
   "metadata": {},
   "outputs": [],
   "source": [
    "X = df_ml.values[::50]"
   ]
  },
  {
   "cell_type": "markdown",
   "metadata": {},
   "source": [
    "### Finding the most appropriate number of clusters"
   ]
  },
  {
   "cell_type": "markdown",
   "metadata": {},
   "source": [
    "Finding best number of clusters"
   ]
  },
  {
   "cell_type": "code",
   "execution_count": 66,
   "metadata": {},
   "outputs": [],
   "source": [
    "from sklearn import cluster, metrics\n",
    "\n",
    "    \n",
    "scores = []\n",
    "for i in range(2,15):\n",
    "    km = cluster.KMeans(i)\n",
    "    km.fit(X)\n",
    "    scores.append(metrics.silhouette_score(X, km.labels_))\n"
   ]
  },
  {
   "cell_type": "markdown",
   "metadata": {},
   "source": [
    "The best value is 1 and the worst value is -1. Values near 0 indicate overlapping clusters. Negative values generally indicate that a sample has been assigned to the wrong cluster, as a different cluster is more similar."
   ]
  },
  {
   "cell_type": "code",
   "execution_count": 67,
   "metadata": {},
   "outputs": [
    {
     "name": "stdout",
     "output_type": "stream",
     "text": [
      "The best silhouette score here is : 0.8870294673826611 and  represents 12.\n"
     ]
    }
   ],
   "source": [
    "max_score = max(scores)\n",
    "\n",
    "nb_clusters = [i for i,j in enumerate(scores) if j == max_score][0]\n",
    "\n",
    "km = cluster.KMeans(nb_clusters)\n",
    "km.fit(X)\n",
    "\n",
    "print(f\"The best silhouette score here is : {max_score} and  represents {nb_clusters}.\")"
   ]
  },
  {
   "cell_type": "markdown",
   "metadata": {},
   "source": [
    "### Reducing dimensions"
   ]
  },
  {
   "cell_type": "code",
   "execution_count": 68,
   "metadata": {},
   "outputs": [],
   "source": [
    "from sklearn import preprocessing\n",
    "\n",
    "X_norm = preprocessing.scale(X) "
   ]
  },
  {
   "cell_type": "code",
   "execution_count": 69,
   "metadata": {},
   "outputs": [],
   "source": [
    "from sklearn import manifold, preprocessing\n",
    "\n",
    "tsne = manifold.TSNE(n_components=2, init='pca')\n",
    "X_tsne = tsne.fit_transform(X_norm)"
   ]
  },
  {
   "cell_type": "markdown",
   "metadata": {},
   "source": [
    "### Plotting with outlined clusters"
   ]
  },
  {
   "cell_type": "code",
   "execution_count": 70,
   "metadata": {},
   "outputs": [
    {
     "data": {
      "text/plain": [
       "<matplotlib.collections.PathCollection at 0x131ff1400>"
      ]
     },
     "execution_count": 70,
     "metadata": {},
     "output_type": "execute_result"
    },
    {
     "data": {
      "image/png": "[encoded data removed]",
      "text/plain": [
       "<Figure size 432x288 with 1 Axes>"
      ]
     },
     "metadata": {
      "needs_background": "light"
     },
     "output_type": "display_data"
    }
   ],
   "source": [
    "plt.scatter(X_tsne[:,0],X_tsne[:,1], c=km.labels_)"
   ]
  },
  {
   "cell_type": "markdown",
   "metadata": {},
   "source": [
    "### Coloring the clusters according to different classes"
   ]
  },
  {
   "cell_type": "code",
   "execution_count": 71,
   "metadata": {},
   "outputs": [
    {
     "data": {
      "text/plain": [
       "<matplotlib.collections.PathCollection at 0x13b259be0>"
      ]
     },
     "execution_count": 71,
     "metadata": {},
     "output_type": "execute_result"
    },
    {
     "data": {
      "image/png": "[encoded data removed]",
      "text/plain": [
       "<Figure size 432x288 with 1 Axes>"
      ]
     },
     "metadata": {
      "needs_background": "light"
     },
     "output_type": "display_data"
    }
   ],
   "source": [
    "plt.scatter(X_tsne[:,0],X_tsne[:,1], c=df[\"age_group_code\"].values[::50])"
   ]
  },
  {
   "cell_type": "code",
   "execution_count": 72,
   "metadata": {},
   "outputs": [
    {
     "data": {
      "text/plain": [
       "<matplotlib.collections.PathCollection at 0x13b198748>"
      ]
     },
     "execution_count": 72,
     "metadata": {},
     "output_type": "execute_result"
    },
    {
     "data": {
      "image/png": "[encoded data removed]",
      "text/plain": [
       "<Figure size 432x288 with 1 Axes>"
      ]
     },
     "metadata": {
      "needs_background": "light"
     },
     "output_type": "display_data"
    }
   ],
   "source": [
    "plt.scatter(X_tsne[:,0],X_tsne[:,1], c=df_ml[\"country_code\"].values[::50])"
   ]
  },
  {
   "cell_type": "code",
   "execution_count": 73,
   "metadata": {},
   "outputs": [
    {
     "data": {
      "text/plain": [
       "<matplotlib.collections.PathCollection at 0x13b369278>"
      ]
     },
     "execution_count": 73,
     "metadata": {},
     "output_type": "execute_result"
    },
    {
     "data": {
      "image/png": "[encoded data removed]",
      "text/plain": [
       "<Figure size 432x288 with 1 Axes>"
      ]
     },
     "metadata": {
      "needs_background": "light"
     },
     "output_type": "display_data"
    }
   ],
   "source": [
    "plt.scatter(X_tsne[:,0],X_tsne[:,1], c=df_ml[\"outcome\"].values[::50])"
   ]
  },
  {
   "cell_type": "code",
   "execution_count": 74,
   "metadata": {},
   "outputs": [
    {
     "data": {
      "text/plain": [
       "<matplotlib.collections.PathCollection at 0x12f9658d0>"
      ]
     },
     "execution_count": 74,
     "metadata": {},
     "output_type": "execute_result"
    },
    {
     "data": {
      "image/png": "[encoded data removed]",
      "text/plain": [
       "<Figure size 432x288 with 1 Axes>"
      ]
     },
     "metadata": {
      "needs_background": "light"
     },
     "output_type": "display_data"
    }
   ],
   "source": [
    "plt.scatter(X_tsne[:,0],X_tsne[:,1], c=df_ml[\"sex_code\"].values[::50])"
   ]
  },
  {
   "cell_type": "markdown",
   "metadata": {},
   "source": [
    "\n",
    "# 4. Improving the results and Theoretical formalism"
   ]
  },
  {
   "cell_type": "markdown",
   "metadata": {},
   "source": [
    "## A. Balancing out the majority dataset\n",
    "\n",
    "The data is unbalanced. You can balance it by reducing randomly the majority class.\n",
    "Assume that you extract randomly samples that are balanced. How the prediction results\n",
    "will change?"
   ]
  },
  {
   "cell_type": "markdown",
   "metadata": {},
   "source": [
    "As said in 2.A: \n",
    "\n",
    "\"The proportion of positive classes (outcome = 1.0 which means patient dies) is very small and is around 0.1% of the dataset in train and in test.\"\n",
    "\n",
    "The KNN keeps in memory every datapoint and minimizes finds the minimum distance between an input X and the K number of neighbors. \n",
    "\n",
    "In our case we have very few neighbors to relate to for the \"positive\" class, which probably highly impacts prediction.\n",
    "\n",
    "We will try balancing out the majority class"
   ]
  },
  {
   "cell_type": "markdown",
   "metadata": {},
   "source": [
    "### Before class resampling"
   ]
  },
  {
   "cell_type": "code",
   "execution_count": 75,
   "metadata": {},
   "outputs": [
    {
     "name": "stdout",
     "output_type": "stream",
     "text": [
      "Number of samples with outcome negative outcome (patient recovers): 166001\n",
      "Number of samples with outcome positive outcome (patient dies): 183\n"
     ]
    }
   ],
   "source": [
    "print(f\"Number of samples with outcome negative outcome (patient recovers): { df_ml[df_ml['outcome'] == 0.0].count()[0]}\" )\n",
    "print(f\"Number of samples with outcome positive outcome (patient dies): { df_ml[df_ml['outcome'] == 1.0].count()[0]}\")\n",
    "      "
   ]
  },
  {
   "cell_type": "markdown",
   "metadata": {},
   "source": [
    "Here is a link to the evaluation of the KNN training with 9 neighbors with the highly imbalanced dataset\n",
    "\n",
    "[click here](#Evaluating-the-9-neighbor-KNN-Unbalanced-Dataset)"
   ]
  },
  {
   "cell_type": "markdown",
   "metadata": {},
   "source": [
    "### Resampling to balance out  the proportion of the positive and negative classes"
   ]
  },
  {
   "cell_type": "code",
   "execution_count": 76,
   "metadata": {},
   "outputs": [],
   "source": [
    "df_majority = df_ml[df_ml['outcome'] == 0.0] # negative class\n",
    "df_minority = df_ml[df_ml['outcome'] == 1.0] # positive class"
   ]
  },
  {
   "cell_type": "code",
   "execution_count": 77,
   "metadata": {},
   "outputs": [],
   "source": [
    "from sklearn.utils import resample\n",
    "\n",
    "df_majority_downsampled = resample(df_majority, \n",
    "                                 replace=False,    \n",
    "                                 n_samples=df_minority.shape[0],    \n",
    "                                 random_state=123)\n",
    " \n",
    "df_downsampled = pd.concat([df_majority_downsampled, df_minority])\n",
    "df_downsampled[\"outcome\"] = np.concatenate([np.full(df_minority.shape[0], 0.0), np.full(df_minority.shape[0], 1.0)])\n"
   ]
  },
  {
   "cell_type": "code",
   "execution_count": 78,
   "metadata": {},
   "outputs": [
    {
     "name": "stdout",
     "output_type": "stream",
     "text": [
      "Number of samples with outcome negative outcome (patient recovers): 183\n",
      "Number of samples with outcome positive outcome (patient dies): 183\n",
      "Total new Training set size: 366\n"
     ]
    }
   ],
   "source": [
    "neg_count = df_downsampled[df_downsampled['outcome'] == 0.0].count()[0]\n",
    "pos_count = df_downsampled[df_downsampled['outcome'] == 1.0].count()[0]\n",
    "total_count = df_downsampled.count()[0]\n",
    "\n",
    "print(f\"Number of samples with outcome negative outcome (patient recovers): {neg_count}\")\n",
    "print(f\"Number of samples with outcome positive outcome (patient dies): {pos_count}\")\n",
    "print(f\"Total new Training set size: {total_count}\")\n"
   ]
  },
  {
   "cell_type": "code",
   "execution_count": 79,
   "metadata": {},
   "outputs": [],
   "source": [
    "Y = df_downsampled[\"outcome\"].values\n",
    "X = df_downsampled.drop(columns=[\"outcome\"]).values"
   ]
  },
  {
   "cell_type": "markdown",
   "metadata": {},
   "source": [
    "_Spliting Data set into train and test_"
   ]
  },
  {
   "cell_type": "code",
   "execution_count": 80,
   "metadata": {},
   "outputs": [],
   "source": [
    "from sklearn import model_selection\n",
    "\n",
    "x_train, x_test, y_train, y_test = model_selection.train_test_split(X, Y,test_size=0.3)"
   ]
  },
  {
   "cell_type": "markdown",
   "metadata": {},
   "source": [
    "### Training the same KNN with balanced training set dataset"
   ]
  },
  {
   "cell_type": "markdown",
   "metadata": {},
   "source": [
    "_Normalizing dataset to avoid euclidian distance instability due to the magnitude of other features_"
   ]
  },
  {
   "cell_type": "code",
   "execution_count": 81,
   "metadata": {},
   "outputs": [],
   "source": [
    "from sklearn import preprocessing\n",
    "\n",
    "std_scale = preprocessing.StandardScaler().fit(X)\n",
    "x_train_std = std_scale.transform(x_train)\n",
    "x_test_std = std_scale.transform(x_test)"
   ]
  },
  {
   "cell_type": "markdown",
   "metadata": {},
   "source": [
    "_Training the KNN Classifier with 4 neighbors_"
   ]
  },
  {
   "cell_type": "code",
   "execution_count": 82,
   "metadata": {},
   "outputs": [
    {
     "data": {
      "text/plain": [
       "KNeighborsClassifier(algorithm='auto', leaf_size=30, metric='minkowski',\n",
       "                     metric_params=None, n_jobs=None, n_neighbors=4, p=2,\n",
       "                     weights='uniform')"
      ]
     },
     "execution_count": 82,
     "metadata": {},
     "output_type": "execute_result"
    }
   ],
   "source": [
    "from sklearn import neighbors, metrics\n",
    "\n",
    "clf = neighbors.KNeighborsClassifier(4)\n",
    "\n",
    "clf.fit(x_train_std, y_train)"
   ]
  },
  {
   "cell_type": "markdown",
   "metadata": {},
   "source": [
    "### Evaluating the KNN with balanced dataset"
   ]
  },
  {
   "cell_type": "code",
   "execution_count": 83,
   "metadata": {},
   "outputs": [],
   "source": [
    "y_predict = clf.predict(x_test_std)"
   ]
  },
  {
   "cell_type": "code",
   "execution_count": 84,
   "metadata": {},
   "outputs": [
    {
     "name": "stdout",
     "output_type": "stream",
     "text": [
      "MSE : 0.29\n",
      "Accuracy Score: 0.92\n"
     ]
    }
   ],
   "source": [
    "print(\"MSE : {:.2f}\".format(np.sqrt(metrics.mean_squared_error(y_test, y_predict))))\n",
    "print(\"Accuracy Score: {:.2f}\".format(metrics.accuracy_score(y_test,y_predict)))"
   ]
  },
  {
   "cell_type": "code",
   "execution_count": 85,
   "metadata": {},
   "outputs": [
    {
     "name": "stdout",
     "output_type": "stream",
     "text": [
      "Predicted Died: 49.00\n",
      "Actually Died: 54.00\n"
     ]
    }
   ],
   "source": [
    "print(\"Predicted Died: {:.2f}\".format(y_predict.sum()))\n",
    "print(\"Actually Died: {:.2f}\".format(y_test.sum()))"
   ]
  },
  {
   "cell_type": "code",
   "execution_count": 86,
   "metadata": {},
   "outputs": [
    {
     "data": {
      "image/png": "[encoded data removed]",
      "text/plain": [
       "<Figure size 720x720 with 1 Axes>"
      ]
     },
     "metadata": {
      "needs_background": "light"
     },
     "output_type": "display_data"
    }
   ],
   "source": [
    "from sklearn.metrics import roc_curve, auc\n",
    "false_positive_rate, true_positive_rate, thresholds = roc_curve(y_test, y_predict)\n",
    "roc_auc = auc(false_positive_rate, true_positive_rate)\n",
    "\n",
    "plt.figure(figsize=(10,10))\n",
    "plt.title('ROC AUC Curve')\n",
    "plt.plot(false_positive_rate,true_positive_rate, color='red',label = 'AUC = %0.2f' % roc_auc)\n",
    "plt.legend(loc = 'lower right')\n",
    "plt.plot([0, 1], [0, 1],linestyle='--')\n",
    "plt.axis('tight')\n",
    "plt.ylabel('True Positive Rate / Recall')\n",
    "plt.xlabel('False Positive Rate / Specificity')\n",
    "plt.show()"
   ]
  },
  {
   "cell_type": "markdown",
   "metadata": {},
   "source": [
    "### Conclusion\n",
    "\n",
    "The downsampling of the negative class improved the AUC Curve lot bettter. \n",
    "The AUC improved from .67 to .90 which is a big improvement and the MSE decreased. \n",
    "\n",
    "The accuracy of the model decreased however because the proprtion of people who recovered really increased.\n",
    "\n",
    "Here for example: "
   ]
  },
  {
   "cell_type": "markdown",
   "metadata": {},
   "source": [
    "## B. Better managing missing values"
   ]
  },
  {
   "cell_type": "markdown",
   "metadata": {},
   "source": [
    "The KNN model accepts the missing values to make predictions. However it is important to see the proportion of missing values in the dataset.\n",
    "\n",
    "This dataset contains lots of missing value and the cleanup job was quite tedious. The missing values weren't replaced in this dataset to avoid unexpected behavoir, especially if the \"positive\" class had a very low proportion.\n",
    "\n",
    "The KNN in this notebook was trained with values that weren't missing.\n",
    "\n",
    "### First approach\n",
    "\n",
    "Use an algorithm that replaces each missing value in every column by either :\n",
    "- the mean (positive + negative targets)\n",
    "- the mode (positive + negative targets)\n",
    "- the median (positive + negative targets)\n",
    "\n",
    "The algorithm _SimpleImputer_ in sklean can do so and fill up the dataset.\n",
    "\n",
    "### Second Approach\n",
    "\n",
    "Use an algorithm that replaces each missing value in every column by either :\n",
    "- the mean of the target class \n",
    "- the mode of the target class \n",
    "- the median of the target class\n",
    "\n",
    "### Third Approach\n",
    "\n",
    "Depending on the proportion of missing values in a column. Use a model to predict the missing values.\n",
    "This approach can be tedious and inappropriate if there is a big proportion of the dataset\n",
    "\n",
    "\n",
    "However it is important to make hypothese and use features that are linked to what our model aims at. In this dataset very few features are actually relevant for our , "
   ]
  },
  {
   "cell_type": "markdown",
   "metadata": {},
   "source": [
    "## C. Finding best parameters using Grid Search"
   ]
  },
  {
   "cell_type": "markdown",
   "metadata": {},
   "source": [
    "To find the best parameters for the models, the Grid Search algorithm can be used\n",
    "which is available in scikit-learn library. Explain the algorithm and use it for the learning\n",
    "models to find the best parameters"
   ]
  },
  {
   "cell_type": "markdown",
   "metadata": {},
   "source": [
    "### Explaination"
   ]
  },
  {
   "cell_type": "markdown",
   "metadata": {},
   "source": [
    "The Grid Search uses Cross Validation to find the best parameter for a given score.\n",
    "\n",
    "The Cross Validation algorithm is the following:  \n",
    "\n",
    "```\n",
    "Input: X data (dimension nxp), Y labels (dimension n), number of folds k\n",
    "Cut [0, 1, ..., n-1] into k parts of size (n/k). (The last part will be a little smaller if n is not a multiple of k.)\n",
    "\n",
    "for i=0 to (k-1):\n",
    "    Form the test dataset (X_test, y_test) by restricting X and y to the indices contained in the i-th part.\n",
    "    Form the training game (X_train, y_train) by restricting X and y to the other clues.\n",
    "    Training the algorithm on the training game\n",
    "    Use the resulting model to predict on the test set\n",
    "        Calculate the model error by comparing the predicted labels to the real labels contained in y_test\n",
    "\n",
    "Output: the mean value of the errors calculated on the k folds.\n",
    "```\n",
    "The Grid Search will take as an input the scoring method used and the hyper parameters to use the results of the Cross Validation and return the most optimized hyperparameter for the given scoring method (minimum or maximum depending on score method). \n",
    "\n",
    "For example: the \"accuracy\" scoring startegy will be maximized."
   ]
  },
  {
   "cell_type": "markdown",
   "metadata": {},
   "source": [
    "### Using Grid Search on the KNN and balanced Dataset"
   ]
  },
  {
   "cell_type": "code",
   "execution_count": 87,
   "metadata": {},
   "outputs": [
    {
     "name": "stdout",
     "output_type": "stream",
     "text": [
      "Best Hyperparameters on training test\n",
      "{'n_neighbors': 1}\n",
      "Cross validation results\n",
      "accuracy = 0.902 (+/-0.105) for {'n_neighbors': 1}\n",
      "accuracy = 0.883 (+/-0.108) for {'n_neighbors': 2}\n",
      "accuracy = 0.895 (+/-0.083) for {'n_neighbors': 3}\n",
      "accuracy = 0.902 (+/-0.088) for {'n_neighbors': 4}\n",
      "accuracy = 0.902 (+/-0.057) for {'n_neighbors': 5}\n",
      "accuracy = 0.879 (+/-0.060) for {'n_neighbors': 6}\n",
      "accuracy = 0.852 (+/-0.097) for {'n_neighbors': 7}\n",
      "accuracy = 0.852 (+/-0.075) for {'n_neighbors': 9}\n",
      "accuracy = 0.863 (+/-0.059) for {'n_neighbors': 10}\n",
      "accuracy = 0.832 (+/-0.085) for {'n_neighbors': 11}\n",
      "accuracy = 0.832 (+/-0.076) for {'n_neighbors': 13}\n",
      "accuracy = 0.832 (+/-0.082) for {'n_neighbors': 15}\n"
     ]
    },
    {
     "name": "stderr",
     "output_type": "stream",
     "text": [
      "/usr/local/anaconda3/lib/python3.7/site-packages/sklearn/model_selection/_search.py:813: DeprecationWarning: The default of the `iid` parameter will change from True to False in version 0.22 and will be removed in 0.24. This will change numeric results when test-set sizes are unequal.\n",
      "  DeprecationWarning)\n"
     ]
    }
   ],
   "source": [
    "from sklearn import neighbors, metrics\n",
    "\n",
    "# hyperparameters to set\n",
    "param_grid = {\"n_neighbors\": [1,2,3,4,5,6,7,9,10,11,13,15]}\n",
    "\n",
    "score = 'accuracy'\n",
    "\n",
    "clf = model_selection.GridSearchCV(\n",
    "    neighbors.KNeighborsClassifier(),\n",
    "    param_grid, # hyperparameters to test\n",
    "    cv=5, # folds for cross validation (5 or 10 generally)\n",
    "    scoring=score # score to optimize\n",
    ")\n",
    "\n",
    "# optimize the classifier on the training set\n",
    "clf.fit(x_train_std, y_train)\n",
    "\n",
    "print(\"Best Hyperparameters on training test\")\n",
    "print(clf.best_params_)\n",
    "\n",
    "print(\"Cross validation results\")\n",
    "for mean, std, params in zip(\n",
    "        clf.cv_results_['mean_test_score'], \n",
    "        clf.cv_results_['std_test_score'],  \n",
    "        clf.cv_results_['params']           \n",
    "    ):\n",
    "\n",
    "    print(\"{} = {:.3f} (+/-{:.03f}) for {}\".format(\n",
    "        score,\n",
    "        mean,\n",
    "        std*2,\n",
    "        params\n",
    "    ) )\n"
   ]
  },
  {
   "cell_type": "code",
   "execution_count": 88,
   "metadata": {},
   "outputs": [],
   "source": [
    "y_predict = clf.predict(x_test_std)"
   ]
  },
  {
   "cell_type": "markdown",
   "metadata": {},
   "source": [
    "### Evaluating model optimized with Cross Validation"
   ]
  },
  {
   "cell_type": "code",
   "execution_count": 89,
   "metadata": {},
   "outputs": [
    {
     "name": "stdout",
     "output_type": "stream",
     "text": [
      "MSE : 0.25\n",
      "Accuracy Score: 0.94\n"
     ]
    }
   ],
   "source": [
    "print(\"MSE : {:.2f}\".format(np.sqrt(metrics.mean_squared_error(y_test, y_predict))))\n",
    "print(\"Accuracy Score: {:.2f}\".format(metrics.accuracy_score(y_test,y_predict)))"
   ]
  },
  {
   "cell_type": "code",
   "execution_count": 90,
   "metadata": {},
   "outputs": [
    {
     "name": "stdout",
     "output_type": "stream",
     "text": [
      "Predicted Died: 55.00\n",
      "Actually Died: 54.00\n"
     ]
    },
    {
     "data": {
      "text/plain": [
       "51"
      ]
     },
     "execution_count": 90,
     "metadata": {},
     "output_type": "execute_result"
    }
   ],
   "source": [
    "print(\"Predicted Died: {:.2f}\".format(y_predict.sum()))\n",
    "print(\"Actually Died: {:.2f}\".format(y_test.sum()))\n",
    "np.logical_and(y_predict, y_test).sum()"
   ]
  },
  {
   "cell_type": "code",
   "execution_count": 91,
   "metadata": {},
   "outputs": [
    {
     "data": {
      "image/png": "[encoded data removed]",
      "text/plain": [
       "<Figure size 720x720 with 1 Axes>"
      ]
     },
     "metadata": {
      "needs_background": "light"
     },
     "output_type": "display_data"
    }
   ],
   "source": [
    "from sklearn.metrics import roc_curve, auc\n",
    "false_positive_rate, true_positive_rate, thresholds = roc_curve(y_test, y_predict)\n",
    "roc_auc = auc(false_positive_rate, true_positive_rate)\n",
    "\n",
    "plt.figure(figsize=(10,10))\n",
    "plt.title('ROC AUC Curve')\n",
    "plt.plot(false_positive_rate,true_positive_rate, color='red',label = 'AUC = %0.2f' % roc_auc)\n",
    "plt.legend(loc = 'lower right')\n",
    "plt.plot([0, 1], [0, 1],linestyle='--')\n",
    "plt.axis('tight')\n",
    "plt.ylabel('True Positive Rate / Recall')\n",
    "plt.xlabel('False Positive Rate / Specificity')\n",
    "plt.show()"
   ]
  },
  {
   "cell_type": "markdown",
   "metadata": {},
   "source": [
    "As expected by choosing to optimize the accuracy score using Grid Search the accuracy went from 0.93 to 0.94 and the MSE went from 0.27 to 0.25 (1 neighbor hyper parameter). Adding to this the AUC went from 0.93 to 0.97 which means means that overall the given metrics would consider this model as very good.\n",
    "\n",
    "However the dataset here is balanced and is quite small (366 rows), this model probably need further evaluation with a larger dataset and predictions with unbalanced data.\n"
   ]
  },
  {
   "cell_type": "markdown",
   "metadata": {},
   "source": [
    "## D. Mathematical Formalism and Conclusion"
   ]
  },
  {
   "cell_type": "markdown",
   "metadata": {},
   "source": [
    "Give the algorithmically (mathematical) formalism of the method which give the best\n",
    "results. Explain all the parameters of the used method and their impact on the results.\n",
    "Some comparison with public results should me made to conclude the project. "
   ]
  },
  {
   "cell_type": "markdown",
   "metadata": {},
   "source": [
    "### Mathematical formalism"
   ]
  },
  {
   "cell_type": "markdown",
   "metadata": {},
   "source": [
    "In our cas the \"best\" classifier was the KNN with 1 neighbor using the following features to predict the outcome of a patient (recovers : 0.0  or dies : 1.0):\n",
    "- age: rounded Int\n",
    "- chronic_disease_binary: boolean\n",
    "- sex_code (0: female, 1: male)\n",
    "- country_code : standeradized int assigned to a country \n",
    "\n",
    "The KNN calculates a distance bewteen the test data and the input to give prediction using the Eucleadean distance Formula.\n",
    "\n",
    "\\begin{equation*}\n",
    "Euclidean Distance = \\sqrt{\\sum_{i=1}^n (x_i-y_i)^2}  \n",
    "\\end{equation*}\n",
    "\n",
    "In our case in a 1-NN the model will predict the class of the closest neighbor. \n",
    "\n",
    "However the KNN is makes no prior assumption of the data but tends to become instable if the data isn't standardized (the euclidean outpiuted distance could be higlhly biased on the the the magnitude of features).  \n",
    "The KNN has to keep in memory every datapoint that it uses for training and the increasing the number of features really increases computation time. \n",
    "\n",
    "\n",
    "\n"
   ]
  },
  {
   "cell_type": "markdown",
   "metadata": {},
   "source": [
    "### Public Results and Conclusion"
   ]
  },
  {
   "cell_type": "markdown",
   "metadata": {},
   "source": [
    "https://www.nature.com/articles/s42256-020-0180-7\n",
    "\n",
    "predict the mortality of patients 90% accuracy model based on three bio markers to help prioritise patients using the following features :\n",
    "- lactic dehydrogenase (LDH), \n",
    "- lymphocyte \n",
    "- high-sensitivity C-reactive protein (hs-CRP).\n",
    "The model uses a very different dataset because it uses extra bio markers. The model seems to be using a combination of decision trees, and the features werer selected using a XGBoost algortihm.\n",
    "\n",
    "\n",
    "In our study we probably should try and use extra features to make our predictions and using more complexe models and approaches that work better on dataset with a small proportion of positive classes."
   ]
  },
  {
   "cell_type": "code",
   "execution_count": null,
   "metadata": {},
   "outputs": [],
   "source": []
  }
 ],
 "metadata": {
  "kernelspec": {
   "display_name": "Python 3",
   "language": "python",
   "name": "python3"
  },
  "language_info": {
   "codemirror_mode": {
    "name": "ipython",
    "version": 3
   },
   "file_extension": ".py",
   "mimetype": "text/x-python",
   "name": "python",
   "nbconvert_exporter": "python",
   "pygments_lexer": "ipython3",
   "version": "3.7.3"
  }
 },
 "nbformat": 4,
 "nbformat_minor": 2
}
